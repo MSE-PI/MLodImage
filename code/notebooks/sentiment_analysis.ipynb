{
 "cells": [
  {
   "cell_type": "code",
   "execution_count": 13,
   "outputs": [
    {
     "name": "stderr",
     "output_type": "stream",
     "text": [
      "[nltk_data] Downloading package vader_lexicon to\n",
      "[nltk_data]     /Users/andrea/nltk_data...\n",
      "[nltk_data]   Package vader_lexicon is already up-to-date!\n",
      "/Users/andrea/Workspace/Git/master/MLodImage/code/notebooks/.venv/lib/python3.10/site-packages/tqdm/auto.py:21: TqdmWarning: IProgress not found. Please update jupyter and ipywidgets. See https://ipywidgets.readthedocs.io/en/stable/user_install.html\n",
      "  from .autonotebook import tqdm as notebook_tqdm\n"
     ]
    }
   ],
   "source": [
    "import spacy\n",
    "from spacy.language import Language\n",
    "from spacy.tokens import Doc, Span\n",
    "from spacy_langdetect import LanguageDetector\n",
    "# install using pip install googletrans\n",
    "from googletrans import Translator\n",
    "import nltk\n",
    "nltk.download('vader_lexicon')\n",
    "from pysentimiento import create_analyzer"
   ],
   "metadata": {
    "collapsed": false
   }
  },
  {
   "cell_type": "code",
   "execution_count": 2,
   "outputs": [
    {
     "data": {
      "text/plain": "<spacy_langdetect.spacy_langdetect.LanguageDetector at 0x13716d3c0>"
     },
     "execution_count": 2,
     "metadata": {},
     "output_type": "execute_result"
    }
   ],
   "source": [
    "@Language.factory(\"custom_language_detector\")\n",
    "def get_lang_detector(nlp, name):\n",
    "    return LanguageDetector()\n",
    "\n",
    "nlp = spacy.load(\"en_core_web_sm\")\n",
    "nlp.add_pipe(\"custom_language_detector\", name=\"language_detector\", last=True)"
   ],
   "metadata": {
    "collapsed": false
   }
  },
  {
   "cell_type": "code",
   "execution_count": 19,
   "outputs": [
    {
     "name": "stdout",
     "output_type": "stream",
     "text": [
      "detected global lang: {'language': 'en', 'score': 0.9999985807326}\n",
      "detected global emotion: AnalyzerOutput(output=others, probas={others: 0.741, disgust: 0.189, sadness: 0.050, joy: 0.006, fear: 0.005, anger: 0.005, surprise: 0.003})\n",
      "detected lang: Is this the real life? - {'language': 'en', 'score': 0.9999984948585048}\n",
      "detected emotion: AnalyzerOutput(output=surprise, probas={surprise: 0.949, others: 0.029, fear: 0.007, sadness: 0.005, joy: 0.005, anger: 0.003, disgust: 0.002})\n",
      "detected lang: Is this just fantasy? - {'language': 'en', 'score': 0.9999967910702633}\n",
      "detected emotion: AnalyzerOutput(output=others, probas={others: 0.967, disgust: 0.010, surprise: 0.009, joy: 0.007, fear: 0.004, anger: 0.002, sadness: 0.002})\n",
      "detected lang: Caught in a landside, No escape from reality. - {'language': 'en', 'score': 0.9999943907531983}\n",
      "detected emotion: AnalyzerOutput(output=others, probas={others: 0.968, disgust: 0.011, joy: 0.008, sadness: 0.005, fear: 0.003, surprise: 0.003, anger: 0.002})\n",
      "detected lang: Open your eyes, Look up to the skies and see. - {'language': 'en', 'score': 0.9999962510128813}\n",
      "detected emotion: AnalyzerOutput(output=others, probas={others: 0.970, joy: 0.015, fear: 0.004, sadness: 0.004, disgust: 0.003, surprise: 0.003, anger: 0.001})\n",
      "detected lang: I'm just a poor boy, I need no sympathy. - {'language': 'en', 'score': 0.9999974617642471}\n",
      "detected emotion: AnalyzerOutput(output=sadness, probas={sadness: 0.988, fear: 0.003, others: 0.003, disgust: 0.003, anger: 0.001, joy: 0.001, surprise: 0.001})\n",
      "detected lang: Because I'm easy come, easy go,Little high, little low. - {'language': 'en', 'score': 0.9999960212853017}\n",
      "detected emotion: AnalyzerOutput(output=others, probas={others: 0.973, joy: 0.015, disgust: 0.004, surprise: 0.003, anger: 0.002, fear: 0.002, sadness: 0.001})\n",
      "detected lang: Any way the wind blows doesn't really matter to Me, to me. - {'language': 'en', 'score': 0.9999994519928662}\n",
      "detected emotion: AnalyzerOutput(output=others, probas={others: 0.960, joy: 0.020, fear: 0.007, sadness: 0.005, disgust: 0.004, surprise: 0.003, anger: 0.001})\n",
      "detected lang: Mamaaa, Just killed a man, Put a gun against his head, pulled my trigger,Now he's dead. - {'language': 'en', 'score': 0.9999954317074022}\n",
      "detected emotion: AnalyzerOutput(output=others, probas={others: 0.954, fear: 0.017, joy: 0.009, sadness: 0.007, disgust: 0.006, anger: 0.004, surprise: 0.002})\n",
      "detected lang: Mamaaa, life had just begun, But now I've gone and thrown it all away Mama, oooh. - {'language': 'en', 'score': 0.999998199411578}\n",
      "detected emotion: AnalyzerOutput(output=sadness, probas={sadness: 0.980, others: 0.010, disgust: 0.003, surprise: 0.002, fear: 0.002, joy: 0.002, anger: 0.001})\n",
      "detected lang: Didn't mean to make you cry. - {'language': 'en', 'score': 0.9999954567818959}\n",
      "detected emotion: AnalyzerOutput(output=sadness, probas={sadness: 0.947, others: 0.036, disgust: 0.004, joy: 0.004, fear: 0.004, surprise: 0.003, anger: 0.002})\n",
      "detected lang: If I'm not back again this time tomorrow. - {'language': 'en', 'score': 0.9999952933924606}\n",
      "detected emotion: AnalyzerOutput(output=others, probas={others: 0.505, sadness: 0.353, fear: 0.095, joy: 0.031, disgust: 0.007, surprise: 0.006, anger: 0.004})\n",
      "detected lang: Carry on, carry on as if nothing really matters - {'language': 'en', 'score': 0.9999976858327085}\n",
      "detected emotion: AnalyzerOutput(output=others, probas={others: 0.946, joy: 0.025, fear: 0.009, sadness: 0.009, surprise: 0.006, disgust: 0.004, anger: 0.001})\n",
      "detected global lang: {'language': 'en', 'score': 0.9999949969087444}\n",
      "detected global emotion: AnalyzerOutput(output=others, probas={others: 0.961, joy: 0.029, surprise: 0.003, disgust: 0.002, fear: 0.002, anger: 0.001, sadness: 0.001})\n",
      "detected lang: It might seem crazy what I am 'bout to say Sunshine, she's here, you can take a break. - {'language': 'en', 'score': 0.9999978073631999}\n",
      "detected emotion: AnalyzerOutput(output=others, probas={others: 0.977, joy: 0.007, disgust: 0.005, surprise: 0.004, fear: 0.004, anger: 0.001, sadness: 0.001})\n",
      "detected lang: I'm a hot air balloon that could go to space With the air, like I don't care, baby by the way. - {'language': 'en', 'score': 0.9999982813218153}\n",
      "detected emotion: AnalyzerOutput(output=others, probas={others: 0.975, joy: 0.010, disgust: 0.006, surprise: 0.004, fear: 0.003, anger: 0.002, sadness: 0.001})\n",
      "detected lang: Huh (Because I'm happy) - {'language': 'en', 'score': 0.5714275212294764}\n",
      "detected emotion: AnalyzerOutput(output=joy, probas={joy: 0.974, others: 0.018, surprise: 0.002, anger: 0.002, fear: 0.002, sadness: 0.001, disgust: 0.001})\n",
      "detected lang: Clap along if you feel like a room without a roof. - {'language': 'en', 'score': 0.9999941064382567}\n",
      "detected emotion: AnalyzerOutput(output=others, probas={others: 0.955, joy: 0.033, fear: 0.003, sadness: 0.003, disgust: 0.003, surprise: 0.003, anger: 0.001})\n",
      "detected lang: (Because I'm happy) - {'language': 'en', 'score': 0.999993252911076}\n",
      "detected emotion: AnalyzerOutput(output=joy, probas={joy: 0.978, others: 0.013, surprise: 0.002, anger: 0.002, sadness: 0.002, fear: 0.002, disgust: 0.001})\n",
      "detected lang: Clap along if you feel like happiness is the truth. - {'language': 'en', 'score': 0.999997342811794}\n",
      "detected emotion: AnalyzerOutput(output=joy, probas={joy: 0.743, others: 0.246, surprise: 0.003, sadness: 0.002, anger: 0.002, fear: 0.002, disgust: 0.001})\n",
      "detected lang: (Because I'm happy) - {'language': 'en', 'score': 0.9999962372637744}\n",
      "detected emotion: AnalyzerOutput(output=joy, probas={joy: 0.978, others: 0.013, surprise: 0.002, anger: 0.002, sadness: 0.002, fear: 0.002, disgust: 0.001})\n",
      "detected lang: Clap along if you know what happiness is to you. - {'language': 'en', 'score': 0.857140289497505}\n",
      "detected emotion: AnalyzerOutput(output=joy, probas={joy: 0.943, others: 0.049, surprise: 0.002, sadness: 0.002, fear: 0.001, anger: 0.001, disgust: 0.001})\n",
      "detected lang: (Because I'm happy) - {'language': 'en', 'score': 0.9999962116516536}\n",
      "detected emotion: AnalyzerOutput(output=joy, probas={joy: 0.978, others: 0.013, surprise: 0.002, anger: 0.002, sadness: 0.002, fear: 0.002, disgust: 0.001})\n",
      "detected lang: Clap along if you feel like that's what you wanna do - {'language': 'en', 'score': 0.9999969432121361}\n",
      "detected emotion: AnalyzerOutput(output=others, probas={others: 0.952, joy: 0.035, surprise: 0.004, fear: 0.004, disgust: 0.002, anger: 0.001, sadness: 0.001})\n"
     ]
    }
   ],
   "source": [
    "emotion_analyzer = create_analyzer(task='emotion', lang='en')\n",
    "\n",
    "\n",
    "def get_metadata(input):\n",
    "    doc = nlp(input)\n",
    "    # document level language detection. Think of it like average language of document!\n",
    "    print(f\"detected global lang: {doc._.language}\")\n",
    "    print(f\"detected global emotion: {emotion_analyzer.predict(input)}\")\n",
    "    # sentence level language detection\n",
    "    for i, sent in enumerate(doc.sents):\n",
    "        print(f\"detected lang: {sent} - {sent._.language}\")\n",
    "        print(f\"detected emotion: {emotion_analyzer.predict(sent.text)}\")\n",
    "\n",
    "text = \"Is this the real life? Is this just fantasy? Caught in a landside, No escape from reality. Open your eyes, Look up to the skies and see. I'm just a poor boy, I need no sympathy. Because I'm easy come, easy go,Little high, little low. Any way the wind blows doesn't really matter to Me, to me. Mamaaa, Just killed a man, Put a gun against his head, pulled my trigger,Now he's dead. Mamaaa, life had just begun, But now I've gone and thrown it all away Mama, oooh. Didn't mean to make you cry. If I'm not back again this time tomorrow. Carry on, carry on as if nothing really matters\"\n",
    "\n",
    "get_metadata(text)\n",
    "\n",
    "text = \"It might seem crazy what I am 'bout to say Sunshine, she's here, you can take a break. I'm a hot air balloon that could go to space With the air, like I don't care, baby by the way. Huh (Because I'm happy) Clap along if you feel like a room without a roof. (Because I'm happy) Clap along if you feel like happiness is the truth. (Because I'm happy) Clap along if you know what happiness is to you. (Because I'm happy) Clap along if you feel like that's what you wanna do\"\n",
    "\n",
    "get_metadata(text)\n"
   ],
   "metadata": {
    "collapsed": false
   }
  }
 ],
 "metadata": {
  "kernelspec": {
   "display_name": "Python 3",
   "language": "python",
   "name": "python3"
  },
  "language_info": {
   "codemirror_mode": {
    "name": "ipython",
    "version": 2
   },
   "file_extension": ".py",
   "mimetype": "text/x-python",
   "name": "python",
   "nbconvert_exporter": "python",
   "pygments_lexer": "ipython2",
   "version": "2.7.6"
  }
 },
 "nbformat": 4,
 "nbformat_minor": 0
}
