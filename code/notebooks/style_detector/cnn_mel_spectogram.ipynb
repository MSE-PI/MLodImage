{
 "cells": [
  {
   "attachments": {},
   "cell_type": "markdown",
   "metadata": {
    "collapsed": false
   },
   "source": [
    "## Music Style Detector : CNN with Mel Spectogram\n",
    "\n",
    "This notebook contains experimentation to create a music style detector by building a CNN model with Mel spectogram as input. The model is trained on a custom part of the FMA dataset and evaluated on the GTZAN dataset.\n",
    "\n",
    "### 1. Imports and setup"
   ]
  },
  {
   "cell_type": "code",
   "execution_count": 103,
   "metadata": {},
   "outputs": [],
   "source": [
    "import torch\n",
    "import torch.nn as nn\n",
    "from torch.nn import init\n",
    "import torch.nn.functional as F\n",
    "import torchaudio\n",
    "from torch.utils.data import DataLoader, Dataset, random_split\n",
    "import pytorch_lightning as pl\n",
    "from torchmetrics.functional import accuracy, confusion_matrix\n",
    "from pytorch_lightning.callbacks import ModelCheckpoint, Callback, EarlyStopping\n",
    "from pytorch_lightning.utilities.model_summary import ModelSummary\n",
    "\n",
    "from pytorch_lightning.loggers import WandbLogger\n",
    "from pytorch_lightning import Trainer\n",
    "\n",
    "from sklearn.model_selection import train_test_split\n",
    "from sklearn.metrics import accuracy_score\n",
    "from datetime import datetime\n",
    "import wandb\n",
    "import matplotlib.pyplot as plt\n",
    "import IPython.display as ipd\n",
    "import numpy as np\n",
    "import pandas as pd\n",
    "import random\n",
    "import os\n",
    "import json\n",
    "\n",
    "# PATHS\n",
    "MODEL_DIR = os.path.abspath(os.path.join(os.getcwd(), '../..', 'models', 'genre_detector'))\n",
    "DATA_DIR = os.path.join(MODEL_DIR, 'data')\n",
    "\n",
    "config =  {\n",
    "    'audio_duration': 10000, # in ms\n",
    "    'sample_rate': 44100,\n",
    "    'n_channels': 2,\n",
    "    'time_shift': 0.2, # in percentage\n",
    "    'batch_size': 32,\n",
    "}"
   ]
  },
  {
   "cell_type": "code",
   "execution_count": 104,
   "metadata": {},
   "outputs": [
    {
     "name": "stderr",
     "output_type": "stream",
     "text": [
      "/home/benjy/anaconda3/envs/pi_mlodimage/lib/python3.10/site-packages/pytorch_lightning/loggers/wandb.py:395: UserWarning: There is a wandb run already in progress and newly created instances of `WandbLogger` will reuse this run. If this is not desired, call `wandb.finish()` before instantiating `WandbLogger`.\n",
      "  rank_zero_warn(\n"
     ]
    }
   ],
   "source": [
    "# WandB logger\n",
    "wandb_logger = WandbLogger(project='genre-detection-tuning', entity='mlodimage', log_model=\"all\")\n",
    "\n",
    "# CONFIG\n",
    "wandb_logger.experiment.config.update({\n",
    "    'audio_duration': 10000, # in ms\n",
    "    'sample_rate': 44100,\n",
    "    'n_channels': 2,\n",
    "    'time_shift': 0.2, # in percentage\n",
    "    'batch_size': 32,\n",
    "    'lr': 0.001,\n",
    "    'max_epochs': 100,\n",
    "})\n",
    "\n",
    "config = wandb_logger.experiment.config"
   ]
  },
  {
   "attachments": {},
   "cell_type": "markdown",
   "metadata": {},
   "source": [
    "### 2. Data pre-processing"
   ]
  },
  {
   "cell_type": "code",
   "execution_count": 105,
   "metadata": {},
   "outputs": [],
   "source": [
    "class AudioUtils():\n",
    "    \"\"\"\n",
    "    Utility class for audio processing.\n",
    "    \"\"\"\n",
    "    @staticmethod\n",
    "    def open(audio_file: str):\n",
    "        \"\"\"\n",
    "        Load an audio file. Return the signal as a tensor and the sample rate.\n",
    "        :param audio_file : Path to the audio file.\n",
    "        :type audio_file : str\n",
    "        :return: signal as a tensor and the sample rate\n",
    "        :rtype: Tuple[torch.Tensor, int]\n",
    "        \"\"\"\n",
    "        signal, sample_rate = torchaudio.load(audio_file)\n",
    "        return signal, sample_rate\n",
    "    \n",
    "    @staticmethod\n",
    "    def rechannel(audio, new_channel):\n",
    "        \"\"\"\n",
    "        Convert a given audio to the specified number of channels.\n",
    "        :param audio: the audio, composed of the signal and the sample rate\n",
    "        :type audio: Tuple[torch.Tensor, int]\n",
    "        :param new_channel: the target number of channels\n",
    "        :type new_channel: int\n",
    "        :return: the audio with the target number of channels\n",
    "        :rtype: Tuple[torch.Tensor, int]\n",
    "        \"\"\"\n",
    "        signal, sample_rate = audio\n",
    "\n",
    "        if signal.shape[0] == new_channel:\n",
    "            # nothing to do as the signal already has the target number of channels\n",
    "            return audio\n",
    "        if new_channel == 1:\n",
    "            # convert to mono by selecting only the first channel\n",
    "            signal = signal[:1, :]\n",
    "        else:\n",
    "            # convert to stereo by duplicating the first channel\n",
    "            signal = torch.cat([signal, signal])\n",
    "        return signal, sample_rate\n",
    "    \n",
    "    @staticmethod\n",
    "    def resample(audio, new_sample_rate):\n",
    "        \"\"\"\n",
    "        Change the sample rate of the audio signal.\n",
    "        :param audio: the audio, composed of the signal and the sample rate\n",
    "        :type audio: Tuple[torch.Tensor, int]\n",
    "        :param new_sample_rate: the target sample rate\n",
    "        :type new_sample_rate: int\n",
    "        :return: the audio with the target sample rate\n",
    "        :rtype: Tuple[torch.Tensor, int]\n",
    "        \"\"\"\n",
    "        signal, sample_rate = audio\n",
    "        if sample_rate == new_sample_rate:\n",
    "            # nothing to do\n",
    "            return audio\n",
    "        resample = torchaudio.transforms.Resample(sample_rate, new_sample_rate)\n",
    "        signal = resample(signal)\n",
    "        return signal, new_sample_rate\n",
    "    \n",
    "    @staticmethod\n",
    "    def pad_truncate(audio, length):\n",
    "        \"\"\"\n",
    "        Pad or truncate an audio signal to a fixed length (in ms).\n",
    "        :param audio: the audio, composed of the signal and the sample rate\n",
    "        :type audio: Tuple[torch.Tensor, int]\n",
    "        :param length: the target length in ms\n",
    "        :type length: int\n",
    "        :return: the audio with the target length\n",
    "        :rtype: Tuple[torch.Tensor, int]\n",
    "        \"\"\"\n",
    "        signal, sample_rate = audio\n",
    "        max_length = sample_rate//1000 * length\n",
    "\n",
    "        if signal.shape[1] > max_length:\n",
    "            signal = signal[:, :max_length]\n",
    "        elif signal.shape[1] < max_length:\n",
    "            padding = max_length - signal.shape[1]\n",
    "            signal = F.pad(signal, (0, padding))\n",
    "        return signal, sample_rate\n",
    "\n",
    "    @staticmethod\n",
    "    def time_shift(audio, shift_limit):\n",
    "        \"\"\"\n",
    "        Shift the signal to the left or right by some percent. Values at the end\n",
    "        are 'wrapped around' to the start of the transformed signal.\n",
    "        :param audio: the audio, composed of the signal and the sample rate\n",
    "        :type audio: Tuple[torch.Tensor, int]\n",
    "        :param shift_limit: the maximum shift to apply (in percent)\n",
    "        :type shift_limit: int\n",
    "        :return: the shifted audio\n",
    "        :rtype: Tuple[torch.Tensor, int]\n",
    "        \"\"\"\n",
    "        signal, sample_rate = audio\n",
    "        _, signal_length = signal.shape\n",
    "        shift_amount = int(random.random() * shift_limit * signal_length)\n",
    "        return (signal.roll(shift_amount), sample_rate)\n",
    "    \n",
    "    @staticmethod\n",
    "    def mel_spectrogram(audio, n_mels=64, n_fft=2048, hop_length=None):\n",
    "        \"\"\"\n",
    "        Create the mel spectogram for the given audio signal.\n",
    "        :param audio: the audio, composed of the signal and the sample rate\n",
    "        :type audio: Tuple[torch.Tensor, int]\n",
    "        :param n_mels: the number of mel filterbanks\n",
    "        :type n_mels: int\n",
    "        :param n_fft: the size of the FFT\n",
    "        :type n_fft: int\n",
    "        :param hop_length: the length of hop between STFT windows\n",
    "        :type hop_length: int\n",
    "        :return: the mel spectogram\n",
    "        :rtype: torch.Tensor\n",
    "        \"\"\"\n",
    "        signal, sample_rate = audio\n",
    "        \n",
    "        mel_spectrogram = torchaudio.transforms.MelSpectrogram(\n",
    "            sample_rate,\n",
    "            n_fft=n_fft,\n",
    "            hop_length=hop_length,\n",
    "            n_mels=n_mels\n",
    "        )(signal)\n",
    "\n",
    "        # convert to decibels\n",
    "        mel_spectrogram = torchaudio.transforms.AmplitudeToDB(top_db=80)(mel_spectrogram)\n",
    "\n",
    "        return mel_spectrogram"
   ]
  },
  {
   "attachments": {},
   "cell_type": "markdown",
   "metadata": {},
   "source": [
    "### 3. Training data loading"
   ]
  },
  {
   "cell_type": "code",
   "execution_count": 106,
   "metadata": {},
   "outputs": [
    {
     "data": {
      "text/html": [
       "<div>\n",
       "<style scoped>\n",
       "    .dataframe tbody tr th:only-of-type {\n",
       "        vertical-align: middle;\n",
       "    }\n",
       "\n",
       "    .dataframe tbody tr th {\n",
       "        vertical-align: top;\n",
       "    }\n",
       "\n",
       "    .dataframe thead th {\n",
       "        text-align: right;\n",
       "    }\n",
       "</style>\n",
       "<table border=\"1\" class=\"dataframe\">\n",
       "  <thead>\n",
       "    <tr style=\"text-align: right;\">\n",
       "      <th></th>\n",
       "      <th>filename</th>\n",
       "      <th>genre_label</th>\n",
       "      <th>genre_id</th>\n",
       "    </tr>\n",
       "  </thead>\n",
       "  <tbody>\n",
       "    <tr>\n",
       "      <th>0</th>\n",
       "      <td>blues.00033.wav</td>\n",
       "      <td>Blues</td>\n",
       "      <td>0</td>\n",
       "    </tr>\n",
       "    <tr>\n",
       "      <th>1</th>\n",
       "      <td>blues.00028.wav</td>\n",
       "      <td>Blues</td>\n",
       "      <td>0</td>\n",
       "    </tr>\n",
       "    <tr>\n",
       "      <th>2</th>\n",
       "      <td>003440.mp3</td>\n",
       "      <td>Blues</td>\n",
       "      <td>0</td>\n",
       "    </tr>\n",
       "    <tr>\n",
       "      <th>3</th>\n",
       "      <td>004536.mp3</td>\n",
       "      <td>Blues</td>\n",
       "      <td>0</td>\n",
       "    </tr>\n",
       "    <tr>\n",
       "      <th>4</th>\n",
       "      <td>blues.00012.wav</td>\n",
       "      <td>Blues</td>\n",
       "      <td>0</td>\n",
       "    </tr>\n",
       "  </tbody>\n",
       "</table>\n",
       "</div>"
      ],
      "text/plain": [
       "          filename genre_label  genre_id\n",
       "0  blues.00033.wav       Blues         0\n",
       "1  blues.00028.wav       Blues         0\n",
       "2       003440.mp3       Blues         0\n",
       "3       004536.mp3       Blues         0\n",
       "4  blues.00012.wav       Blues         0"
      ]
     },
     "execution_count": 106,
     "metadata": {},
     "output_type": "execute_result"
    }
   ],
   "source": [
    "# DATA AND METADATA\n",
    "AUDIO_DIR = os.path.join(DATA_DIR, 'raw', 'audio')\n",
    "train_df = pd.read_csv(os.path.join(DATA_DIR, 'prepared', 'train_genres.csv'))\n",
    "config.update({\n",
    "    'n_classes': len(train_df['genre_id'].unique())\n",
    "})\n",
    "train_df.head()"
   ]
  },
  {
   "cell_type": "code",
   "execution_count": 107,
   "metadata": {},
   "outputs": [
    {
     "name": "stdout",
     "output_type": "stream",
     "text": [
      "{0: 'Blues', 1: 'Classical', 2: 'Country', 3: 'Disco', 4: 'Electronic', 5: 'Hip-Hop', 6: 'Jazz', 7: 'Metal', 8: 'Pop', 9: 'Reggae', 10: 'Rock'}\n"
     ]
    }
   ],
   "source": [
    "# create a map of the genre_id to genre_label\n",
    "id_to_label = train_df.set_index('genre_id')['genre_label'].to_dict()\n",
    "print(id_to_label)"
   ]
  },
  {
   "cell_type": "code",
   "execution_count": 108,
   "metadata": {},
   "outputs": [],
   "source": [
    "class GenreDataset(Dataset):\n",
    "    \"\"\"\n",
    "    Dataset for the FMA dataset.\n",
    "    \"\"\"\n",
    "    def __init__(self, df, audio_dir):\n",
    "        \"\"\"\n",
    "        Constructor.\n",
    "        :param df: the dataframe containing the audio files ids and their genre label\n",
    "        :type df: pandas.DataFrame\n",
    "        :param audio_dir: the directory containing the audio files\n",
    "        :type audio_dir: str\n",
    "        \"\"\"\n",
    "        self.fma_df = df\n",
    "        self.audio_dir = audio_dir\n",
    "        \n",
    "    def __len__(self):\n",
    "        \"\"\"\n",
    "        Get the length of the dataset.\n",
    "        :return: the length of the dataset\n",
    "        :rtype: int\n",
    "        \"\"\"\n",
    "        return len(self.fma_df)\n",
    "    \n",
    "    def __getitem__(self, idx):\n",
    "        \"\"\"\n",
    "        Get the idx-th sample of the dataset.\n",
    "        :param idx: the index of the sample\n",
    "        :type idx: int\n",
    "        :return: the idx-th sample of the dataset and its genre label\n",
    "        :rtype: Tuple[torch.Tensor, int]\n",
    "        \"\"\" \n",
    "        audio_file_path = os.path.join(self.audio_dir, str(self.fma_df.iloc[idx]['filename']))\n",
    "        # get the genre class id\n",
    "        genre_id = self.fma_df.iloc[idx]['genre_id']\n",
    "\n",
    "        # load the audio file and apply the preprocessing\n",
    "        audio = AudioUtils.open(audio_file_path)\n",
    "        audio = AudioUtils.rechannel(audio, config['n_channels'])\n",
    "        audio = AudioUtils.resample(audio, config['sample_rate'])\n",
    "        audio = AudioUtils.pad_truncate(audio, config['audio_duration'])\n",
    "        audio = AudioUtils.time_shift(audio, config['time_shift'])\n",
    "        mel_spectrogram = AudioUtils.mel_spectrogram(audio)\n",
    "\n",
    "        return (mel_spectrogram, genre_id)"
   ]
  },
  {
   "cell_type": "code",
   "execution_count": 109,
   "metadata": {},
   "outputs": [
    {
     "name": "stdout",
     "output_type": "stream",
     "text": [
      "64 430\n"
     ]
    },
    {
     "data": {
      "image/png": "[encoded data removed]",
      "text/plain": [
       "<Figure size 1000x400 with 2 Axes>"
      ]
     },
     "metadata": {},
     "output_type": "display_data"
    },
    {
     "name": "stdout",
     "output_type": "stream",
     "text": [
      "Inputs shape: torch.Size([2, 64, 430])\n"
     ]
    }
   ],
   "source": [
    "full_dataset = GenreDataset(train_df, AUDIO_DIR)\n",
    "\n",
    "# random split\n",
    "nb_samples = len(full_dataset)\n",
    "nb_train_samples = int(nb_samples * 0.8)\n",
    "nb_val_samples = nb_samples - nb_train_samples\n",
    "train_dataset, val_dataset = random_split(full_dataset, [nb_train_samples, nb_val_samples])\n",
    "\n",
    "# create the data loaders\n",
    "train_loader = DataLoader(train_dataset, batch_size=config['batch_size'], shuffle=True, num_workers=10, drop_last=True)\n",
    "val_loader = DataLoader(val_dataset, batch_size=1, shuffle=False,  num_workers=10)\n",
    "\n",
    "# get first batch\n",
    "batch = next(iter(val_loader))\n",
    "\n",
    "mel_spectrogram = batch[0][0]\n",
    "# print shape of the mel spectrogram\n",
    "INPUT_HEIGHT = mel_spectrogram.shape[1]\n",
    "INPUT_WIDTH = mel_spectrogram.shape[2]\n",
    "print(INPUT_HEIGHT, INPUT_WIDTH)\n",
    "# plot the spectrograms according to nb of channels\n",
    "fig, axs = plt.subplots(config['n_channels'], 1, figsize=(10, 4))\n",
    "for c in range(config['n_channels']):\n",
    "    axs[c].imshow(mel_spectrogram[c,:,:].numpy(), cmap='hot')\n",
    "    axs[c].set_title('Channel {}'.format(c+1))\n",
    "    axs[c].set_xlabel('Time')\n",
    "    axs[c].set_ylabel('Mel filterbank')\n",
    "fig.suptitle('Mel spectrogram for the 2 channels')\n",
    "plt.show()\n",
    "\n",
    "print(\"Inputs shape: {}\".format(mel_spectrogram.shape))"
   ]
  },
  {
   "attachments": {},
   "cell_type": "markdown",
   "metadata": {},
   "source": [
    "### 4. Model creation"
   ]
  },
  {
   "cell_type": "code",
   "execution_count": 110,
   "metadata": {},
   "outputs": [],
   "source": [
    "class AudioCNN(pl.LightningModule):\n",
    "    \"\"\"\n",
    "    Audio classification model.\n",
    "    \"\"\"\n",
    "    def __init__(self, nb_channels, nb_classes):\n",
    "        \"\"\"\n",
    "        Constructor.\n",
    "        :param nb_channels: the number of channels in the input data\n",
    "        :param nb_classes: the number of classes\n",
    "        :type nb_classes: int\n",
    "        \"\"\"\n",
    "        super(AudioCNN, self).__init__()\n",
    "        conv_layers = []\n",
    "\n",
    "        self.conv1 = nn.Conv2d(nb_channels, 8, kernel_size=(5, 5), stride=(2, 2), padding=(2, 2))\n",
    "        self.relu1 = nn.ReLU()\n",
    "        self.bn1 = nn.BatchNorm2d(8)\n",
    "        nn.init.kaiming_normal_(self.conv1.weight, a=0.1)\n",
    "        self.conv1.bias.data.zero_()\n",
    "        conv_layers += [self.conv1, self.relu1, self.bn1]\n",
    "\n",
    "        self.conv2 = nn.Conv2d(8, 16, kernel_size=(3, 3), stride=(2, 2), padding=(1, 1))\n",
    "        self.relu2 = nn.ReLU()\n",
    "        self.bn2 = nn.BatchNorm2d(16)\n",
    "        nn.init.kaiming_normal_(self.conv2.weight, a=0.1)\n",
    "        self.conv2.bias.data.zero_()\n",
    "        conv_layers += [self.conv2, self.relu2, self.bn2]\n",
    "\n",
    "        self.conv3 = nn.Conv2d(16, 32, kernel_size=(3, 3), stride=(2, 2), padding=(1, 1))\n",
    "        self.relu3 = nn.ReLU()\n",
    "        self.bn3 = nn.BatchNorm2d(32)\n",
    "        nn.init.kaiming_normal_(self.conv3.weight, a=0.1)\n",
    "        self.conv3.bias.data.zero_()\n",
    "        conv_layers += [self.conv3, self.relu3, self.bn3]\n",
    "\n",
    "        self.conv4 = nn.Conv2d(32, 64, kernel_size=(3, 3), stride=(2, 2), padding=(1, 1))\n",
    "        self.relu4 = nn.ReLU()\n",
    "        self.bn4 = nn.BatchNorm2d(64)\n",
    "        nn.init.kaiming_normal_(self.conv4.weight, a=0.1)\n",
    "        self.conv4.bias.data.zero_()\n",
    "        conv_layers += [self.conv4, self.relu4, self.bn4]\n",
    "\n",
    "        self.ap = nn.AdaptiveAvgPool2d(output_size=1)\n",
    "        self.linear = nn.Linear(in_features=64, out_features=nb_classes, bias=True)\n",
    "\n",
    "        self.conv = nn.Sequential(*conv_layers)\n",
    "\n",
    "        # loss function\n",
    "        self.loss = nn.CrossEntropyLoss()\n",
    "\n",
    "        # optimizer parameters\n",
    "        self.lr = 0.001\n",
    "\n",
    "        # number of classes\n",
    "        self.nb_classes = nb_classes\n",
    "\n",
    "        # save hyperparameters\n",
    "        self.save_hyperparameters()\n",
    "\n",
    "    def forward(self, x):\n",
    "        \"\"\"\n",
    "        Forward pass.\n",
    "        :param x: the input\n",
    "        :type x: torch.Tensor\n",
    "        :return: the output\n",
    "        :rtype: torch.Tensor\n",
    "        \"\"\"\n",
    "        x = self.conv(x)\n",
    "        x = self.ap(x)\n",
    "        x = x.view(x.shape[0], -1)\n",
    "        return self.linear(x)\n",
    "    \n",
    "    def training_step(self, batch, batch_idx):\n",
    "        \"\"\"\n",
    "        Training step.\n",
    "        :param batch: the batch\n",
    "        :type batch: Tuple[torch.Tensor, torch.Tensor]\n",
    "        :param batch_idx: the batch index\n",
    "        :type batch_idx: int\n",
    "        :return: the loss\n",
    "        :rtype: torch.Tensor\n",
    "        \"\"\"\n",
    "        _, loss, acc = self._get_preds_loss_accuracy(batch)\n",
    "\n",
    "        self.log('train_loss', loss, on_step=False, on_epoch=True, prog_bar=True)\n",
    "        self.log('train_acc', acc, on_step=False, on_epoch=True, prog_bar=True)\n",
    "\n",
    "        return loss\n",
    "    \n",
    "    def validation_step(self, batch, batch_idx):\n",
    "        \"\"\"\n",
    "        Validation step.\n",
    "        :param batch: the batch\n",
    "        :type batch: Tuple[torch.Tensor, torch.Tensor]\n",
    "        :param batch_idx: the batch index\n",
    "        :type batch_idx: int\n",
    "        :return: the loss\n",
    "        :rtype: torch.Tensor\n",
    "        \"\"\"\n",
    "        _, loss, acc = self._get_preds_loss_accuracy(batch)\n",
    "\n",
    "        self.log('val_loss', loss, on_step=False, on_epoch=True, prog_bar=True)\n",
    "        self.log('val_acc', acc, on_step=False, on_epoch=True, prog_bar=True)\n",
    "    \n",
    "    def test_step(self, batch, batch_idx):\n",
    "        \"\"\"\n",
    "        Test step.\n",
    "        :param batch: the batch\n",
    "        :type batch: Tuple[torch.Tensor, torch.Tensor]\n",
    "        :param batch_idx: the batch index\n",
    "        :type batch_idx: int\n",
    "        :return: the loss\n",
    "        :rtype: torch.Tensor\n",
    "        \"\"\"\n",
    "        _, loss, acc = self._get_preds_loss_accuracy(batch)\n",
    "\n",
    "        self.log('test_loss', loss)\n",
    "        self.log('test_acc', acc)\n",
    "    \n",
    "    def configure_optimizers(self):\n",
    "        \"\"\"\n",
    "        Configure optimizers.\n",
    "        :return: the optimizer\n",
    "        :rtype: torch.optim.Optimizer\n",
    "        \"\"\"\n",
    "        optimizer = torch.optim.Adam(self.parameters(), lr=self.lr)\n",
    "        return optimizer\n",
    "    \n",
    "    def _get_preds_loss_accuracy(self, batch):\n",
    "        \"\"\"\n",
    "        Get predictions, loss and accuracy.\"\"\"\n",
    "        x, y = batch\n",
    "        logits = self(x)\n",
    "        preds = torch.argmax(logits, dim=1)\n",
    "        loss = self.loss(logits, y)\n",
    "        acc = accuracy(preds, y, 'multiclass', num_classes=self.nb_classes)\n",
    "        return preds, loss, acc"
   ]
  },
  {
   "attachments": {},
   "cell_type": "markdown",
   "metadata": {},
   "source": [
    "### 5. Model training"
   ]
  },
  {
   "cell_type": "code",
   "execution_count": 111,
   "metadata": {},
   "outputs": [],
   "source": [
    "# checkpoint callback\n",
    "checkpoint_callback = ModelCheckpoint(\n",
    "    monitor='val_loss',\n",
    "    mode='min',\n",
    ")"
   ]
  },
  {
   "cell_type": "code",
   "execution_count": 112,
   "metadata": {},
   "outputs": [
    {
     "name": "stderr",
     "output_type": "stream",
     "text": [
      "GPU available: True (cuda), used: True\n",
      "TPU available: False, using: 0 TPU cores\n",
      "IPU available: False, using: 0 IPUs\n",
      "HPU available: False, using: 0 HPUs\n",
      "You are using a CUDA device ('NVIDIA GeForce RTX 3070 Ti Laptop GPU') that has Tensor Cores. To properly utilize them, you should set `torch.set_float32_matmul_precision('medium' | 'high')` which will trade-off precision for performance. For more details, read https://pytorch.org/docs/stable/generated/torch.set_float32_matmul_precision.html#torch.set_float32_matmul_precision\n",
      "/home/benjy/anaconda3/envs/pi_mlodimage/lib/python3.10/site-packages/pytorch_lightning/callbacks/model_checkpoint.py:612: UserWarning: Checkpoint directory ./genre-detection-tuning/d11chwbe/checkpoints exists and is not empty.\n",
      "  rank_zero_warn(f\"Checkpoint directory {dirpath} exists and is not empty.\")\n",
      "LOCAL_RANK: 0 - CUDA_VISIBLE_DEVICES: [0]\n",
      "\n",
      "   | Name   | Type              | Params\n",
      "----------------------------------------------\n",
      "0  | conv1  | Conv2d            | 408   \n",
      "1  | relu1  | ReLU              | 0     \n",
      "2  | bn1    | BatchNorm2d       | 16    \n",
      "3  | conv2  | Conv2d            | 1.2 K \n",
      "4  | relu2  | ReLU              | 0     \n",
      "5  | bn2    | BatchNorm2d       | 32    \n",
      "6  | conv3  | Conv2d            | 4.6 K \n",
      "7  | relu3  | ReLU              | 0     \n",
      "8  | bn3    | BatchNorm2d       | 64    \n",
      "9  | conv4  | Conv2d            | 18.5 K\n",
      "10 | relu4  | ReLU              | 0     \n",
      "11 | bn4    | BatchNorm2d       | 128   \n",
      "12 | ap     | AdaptiveAvgPool2d | 0     \n",
      "13 | linear | Linear            | 715   \n",
      "14 | conv   | Sequential        | 25.0 K\n",
      "15 | loss   | CrossEntropyLoss  | 0     \n",
      "----------------------------------------------\n",
      "25.7 K    Trainable params\n",
      "0         Non-trainable params\n",
      "25.7 K    Total params\n",
      "0.103     Total estimated model params size (MB)\n"
     ]
    },
    {
     "data": {
      "application/vnd.jupyter.widget-view+json": {
       "model_id": "23348800c4dc4bf3932d57ca405d1fd9",
       "version_major": 2,
       "version_minor": 0
      },
      "text/plain": [
       "Sanity Checking: 0it [00:00, ?it/s]"
      ]
     },
     "metadata": {},
     "output_type": "display_data"
    },
    {
     "name": "stderr",
     "output_type": "stream",
     "text": [
      "/home/benjy/anaconda3/envs/pi_mlodimage/lib/python3.10/site-packages/pytorch_lightning/loops/fit_loop.py:280: PossibleUserWarning: The number of training batches (39) is smaller than the logging interval Trainer(log_every_n_steps=50). Set a lower value for log_every_n_steps if you want to see logs for the training epoch.\n",
      "  rank_zero_warn(\n"
     ]
    },
    {
     "data": {
      "application/vnd.jupyter.widget-view+json": {
       "model_id": "425baf62b0334de98ed7b01bc0a0e0d2",
       "version_major": 2,
       "version_minor": 0
      },
      "text/plain": [
       "Training: 0it [00:00, ?it/s]"
      ]
     },
     "metadata": {},
     "output_type": "display_data"
    },
    {
     "data": {
      "application/vnd.jupyter.widget-view+json": {
       "model_id": "be333e734c8646ed9921ba8e6a5a395c",
       "version_major": 2,
       "version_minor": 0
      },
      "text/plain": [
       "Validation: 0it [00:00, ?it/s]"
      ]
     },
     "metadata": {},
     "output_type": "display_data"
    },
    {
     "data": {
      "application/vnd.jupyter.widget-view+json": {
       "model_id": "b86320cbd63f48e5b4dad1c4cf688b9d",
       "version_major": 2,
       "version_minor": 0
      },
      "text/plain": [
       "Validation: 0it [00:00, ?it/s]"
      ]
     },
     "metadata": {},
     "output_type": "display_data"
    },
    {
     "data": {
      "application/vnd.jupyter.widget-view+json": {
       "model_id": "60b9bb2a3b6d48588caec80c7ba2d01f",
       "version_major": 2,
       "version_minor": 0
      },
      "text/plain": [
       "Validation: 0it [00:00, ?it/s]"
      ]
     },
     "metadata": {},
     "output_type": "display_data"
    },
    {
     "data": {
      "application/vnd.jupyter.widget-view+json": {
       "model_id": "781dc95b9d3546a1ae48d17ca0cea67e",
       "version_major": 2,
       "version_minor": 0
      },
      "text/plain": [
       "Validation: 0it [00:00, ?it/s]"
      ]
     },
     "metadata": {},
     "output_type": "display_data"
    },
    {
     "data": {
      "application/vnd.jupyter.widget-view+json": {
       "model_id": "7e8d1ff1c24c4a0c883d0c2e12158f4f",
       "version_major": 2,
       "version_minor": 0
      },
      "text/plain": [
       "Validation: 0it [00:00, ?it/s]"
      ]
     },
     "metadata": {},
     "output_type": "display_data"
    },
    {
     "data": {
      "application/vnd.jupyter.widget-view+json": {
       "model_id": "440efc3ac1704a23aa83d9be8c5c9498",
       "version_major": 2,
       "version_minor": 0
      },
      "text/plain": [
       "Validation: 0it [00:00, ?it/s]"
      ]
     },
     "metadata": {},
     "output_type": "display_data"
    },
    {
     "data": {
      "application/vnd.jupyter.widget-view+json": {
       "model_id": "239a4848263247a39d6b1d0a3563e54e",
       "version_major": 2,
       "version_minor": 0
      },
      "text/plain": [
       "Validation: 0it [00:00, ?it/s]"
      ]
     },
     "metadata": {},
     "output_type": "display_data"
    },
    {
     "data": {
      "application/vnd.jupyter.widget-view+json": {
       "model_id": "63bc0b1e58a34deabe533fa374389d70",
       "version_major": 2,
       "version_minor": 0
      },
      "text/plain": [
       "Validation: 0it [00:00, ?it/s]"
      ]
     },
     "metadata": {},
     "output_type": "display_data"
    },
    {
     "data": {
      "application/vnd.jupyter.widget-view+json": {
       "model_id": "685ccb404a5f4b718944cf0ecfed1d1d",
       "version_major": 2,
       "version_minor": 0
      },
      "text/plain": [
       "Validation: 0it [00:00, ?it/s]"
      ]
     },
     "metadata": {},
     "output_type": "display_data"
    },
    {
     "data": {
      "application/vnd.jupyter.widget-view+json": {
       "model_id": "5ba2756447e74c58a2bc8d3e7f878974",
       "version_major": 2,
       "version_minor": 0
      },
      "text/plain": [
       "Validation: 0it [00:00, ?it/s]"
      ]
     },
     "metadata": {},
     "output_type": "display_data"
    },
    {
     "data": {
      "application/vnd.jupyter.widget-view+json": {
       "model_id": "cc3e2923144a419ab98221a8d07cbb42",
       "version_major": 2,
       "version_minor": 0
      },
      "text/plain": [
       "Validation: 0it [00:00, ?it/s]"
      ]
     },
     "metadata": {},
     "output_type": "display_data"
    },
    {
     "data": {
      "application/vnd.jupyter.widget-view+json": {
       "model_id": "3061d59862f64ba8b0a530b5b71c6f15",
       "version_major": 2,
       "version_minor": 0
      },
      "text/plain": [
       "Validation: 0it [00:00, ?it/s]"
      ]
     },
     "metadata": {},
     "output_type": "display_data"
    },
    {
     "data": {
      "application/vnd.jupyter.widget-view+json": {
       "model_id": "6d725cb56af34d64b4494cb7d0462de4",
       "version_major": 2,
       "version_minor": 0
      },
      "text/plain": [
       "Validation: 0it [00:00, ?it/s]"
      ]
     },
     "metadata": {},
     "output_type": "display_data"
    },
    {
     "data": {
      "application/vnd.jupyter.widget-view+json": {
       "model_id": "7749f5ecf0ae4c818f7b966605f915cf",
       "version_major": 2,
       "version_minor": 0
      },
      "text/plain": [
       "Validation: 0it [00:00, ?it/s]"
      ]
     },
     "metadata": {},
     "output_type": "display_data"
    },
    {
     "data": {
      "application/vnd.jupyter.widget-view+json": {
       "model_id": "b0bffa2aa12246908ca74f65fa2d2d93",
       "version_major": 2,
       "version_minor": 0
      },
      "text/plain": [
       "Validation: 0it [00:00, ?it/s]"
      ]
     },
     "metadata": {},
     "output_type": "display_data"
    },
    {
     "data": {
      "application/vnd.jupyter.widget-view+json": {
       "model_id": "797087538c3844ffb50a207f206763e3",
       "version_major": 2,
       "version_minor": 0
      },
      "text/plain": [
       "Validation: 0it [00:00, ?it/s]"
      ]
     },
     "metadata": {},
     "output_type": "display_data"
    },
    {
     "data": {
      "application/vnd.jupyter.widget-view+json": {
       "model_id": "c5b2def3d894441ba3ddebc463d57cdf",
       "version_major": 2,
       "version_minor": 0
      },
      "text/plain": [
       "Validation: 0it [00:00, ?it/s]"
      ]
     },
     "metadata": {},
     "output_type": "display_data"
    },
    {
     "data": {
      "application/vnd.jupyter.widget-view+json": {
       "model_id": "8d8faf9eb9984757b9953c28265dd3aa",
       "version_major": 2,
       "version_minor": 0
      },
      "text/plain": [
       "Validation: 0it [00:00, ?it/s]"
      ]
     },
     "metadata": {},
     "output_type": "display_data"
    },
    {
     "data": {
      "application/vnd.jupyter.widget-view+json": {
       "model_id": "3c7da37dcceb44b1a3e42ff3b39e301d",
       "version_major": 2,
       "version_minor": 0
      },
      "text/plain": [
       "Validation: 0it [00:00, ?it/s]"
      ]
     },
     "metadata": {},
     "output_type": "display_data"
    },
    {
     "data": {
      "application/vnd.jupyter.widget-view+json": {
       "model_id": "5f372ef333474ae68640c2f0a171a799",
       "version_major": 2,
       "version_minor": 0
      },
      "text/plain": [
       "Validation: 0it [00:00, ?it/s]"
      ]
     },
     "metadata": {},
     "output_type": "display_data"
    },
    {
     "data": {
      "application/vnd.jupyter.widget-view+json": {
       "model_id": "0628adcfc2d043e29f39af392133d1cb",
       "version_major": 2,
       "version_minor": 0
      },
      "text/plain": [
       "Validation: 0it [00:00, ?it/s]"
      ]
     },
     "metadata": {},
     "output_type": "display_data"
    },
    {
     "data": {
      "application/vnd.jupyter.widget-view+json": {
       "model_id": "b2a664b39f2747b09c6321811f1e26ad",
       "version_major": 2,
       "version_minor": 0
      },
      "text/plain": [
       "Validation: 0it [00:00, ?it/s]"
      ]
     },
     "metadata": {},
     "output_type": "display_data"
    },
    {
     "data": {
      "application/vnd.jupyter.widget-view+json": {
       "model_id": "081d69294cfd4efb9feb1816e02b37cc",
       "version_major": 2,
       "version_minor": 0
      },
      "text/plain": [
       "Validation: 0it [00:00, ?it/s]"
      ]
     },
     "metadata": {},
     "output_type": "display_data"
    },
    {
     "data": {
      "application/vnd.jupyter.widget-view+json": {
       "model_id": "180384d0c0904e45badcf212404b8361",
       "version_major": 2,
       "version_minor": 0
      },
      "text/plain": [
       "Validation: 0it [00:00, ?it/s]"
      ]
     },
     "metadata": {},
     "output_type": "display_data"
    },
    {
     "data": {
      "application/vnd.jupyter.widget-view+json": {
       "model_id": "98f5a8ace9fd4ce99677d8636c6b19b0",
       "version_major": 2,
       "version_minor": 0
      },
      "text/plain": [
       "Validation: 0it [00:00, ?it/s]"
      ]
     },
     "metadata": {},
     "output_type": "display_data"
    },
    {
     "data": {
      "application/vnd.jupyter.widget-view+json": {
       "model_id": "d3230bb08d614ed39af5b457dec8e254",
       "version_major": 2,
       "version_minor": 0
      },
      "text/plain": [
       "Validation: 0it [00:00, ?it/s]"
      ]
     },
     "metadata": {},
     "output_type": "display_data"
    },
    {
     "data": {
      "application/vnd.jupyter.widget-view+json": {
       "model_id": "7495eeeed1444a20abfb0dfac94d37f9",
       "version_major": 2,
       "version_minor": 0
      },
      "text/plain": [
       "Validation: 0it [00:00, ?it/s]"
      ]
     },
     "metadata": {},
     "output_type": "display_data"
    },
    {
     "data": {
      "application/vnd.jupyter.widget-view+json": {
       "model_id": "c3060d575dee48518fff104481fd87a1",
       "version_major": 2,
       "version_minor": 0
      },
      "text/plain": [
       "Validation: 0it [00:00, ?it/s]"
      ]
     },
     "metadata": {},
     "output_type": "display_data"
    },
    {
     "data": {
      "application/vnd.jupyter.widget-view+json": {
       "model_id": "ef7addedda8345bcbcb22db6c99db93d",
       "version_major": 2,
       "version_minor": 0
      },
      "text/plain": [
       "Validation: 0it [00:00, ?it/s]"
      ]
     },
     "metadata": {},
     "output_type": "display_data"
    },
    {
     "data": {
      "application/vnd.jupyter.widget-view+json": {
       "model_id": "32b9f13fc71f4a03ad7e8adc4657e1b6",
       "version_major": 2,
       "version_minor": 0
      },
      "text/plain": [
       "Validation: 0it [00:00, ?it/s]"
      ]
     },
     "metadata": {},
     "output_type": "display_data"
    },
    {
     "data": {
      "application/vnd.jupyter.widget-view+json": {
       "model_id": "53423b7ce4d846a3af34e843af789203",
       "version_major": 2,
       "version_minor": 0
      },
      "text/plain": [
       "Validation: 0it [00:00, ?it/s]"
      ]
     },
     "metadata": {},
     "output_type": "display_data"
    },
    {
     "data": {
      "application/vnd.jupyter.widget-view+json": {
       "model_id": "c18a0285b6c24f59a7b229a002bbb690",
       "version_major": 2,
       "version_minor": 0
      },
      "text/plain": [
       "Validation: 0it [00:00, ?it/s]"
      ]
     },
     "metadata": {},
     "output_type": "display_data"
    },
    {
     "data": {
      "application/vnd.jupyter.widget-view+json": {
       "model_id": "282722e8493c4964b4f1212eebd73c04",
       "version_major": 2,
       "version_minor": 0
      },
      "text/plain": [
       "Validation: 0it [00:00, ?it/s]"
      ]
     },
     "metadata": {},
     "output_type": "display_data"
    },
    {
     "data": {
      "application/vnd.jupyter.widget-view+json": {
       "model_id": "eb020d4fa1d74680a92c5ea8dcaa1313",
       "version_major": 2,
       "version_minor": 0
      },
      "text/plain": [
       "Validation: 0it [00:00, ?it/s]"
      ]
     },
     "metadata": {},
     "output_type": "display_data"
    },
    {
     "data": {
      "application/vnd.jupyter.widget-view+json": {
       "model_id": "21e6937a231c417e8f782a4e157e8317",
       "version_major": 2,
       "version_minor": 0
      },
      "text/plain": [
       "Validation: 0it [00:00, ?it/s]"
      ]
     },
     "metadata": {},
     "output_type": "display_data"
    },
    {
     "data": {
      "application/vnd.jupyter.widget-view+json": {
       "model_id": "925471c3fe084d5cae0324df3a66f147",
       "version_major": 2,
       "version_minor": 0
      },
      "text/plain": [
       "Validation: 0it [00:00, ?it/s]"
      ]
     },
     "metadata": {},
     "output_type": "display_data"
    },
    {
     "data": {
      "application/vnd.jupyter.widget-view+json": {
       "model_id": "037e603bc4bb4d8282e9f623e863a025",
       "version_major": 2,
       "version_minor": 0
      },
      "text/plain": [
       "Validation: 0it [00:00, ?it/s]"
      ]
     },
     "metadata": {},
     "output_type": "display_data"
    },
    {
     "data": {
      "application/vnd.jupyter.widget-view+json": {
       "model_id": "34a38d9805194a609a936a13a74ed0ac",
       "version_major": 2,
       "version_minor": 0
      },
      "text/plain": [
       "Validation: 0it [00:00, ?it/s]"
      ]
     },
     "metadata": {},
     "output_type": "display_data"
    },
    {
     "data": {
      "application/vnd.jupyter.widget-view+json": {
       "model_id": "3dad4366e0fe4a53a5d9285cf254a289",
       "version_major": 2,
       "version_minor": 0
      },
      "text/plain": [
       "Validation: 0it [00:00, ?it/s]"
      ]
     },
     "metadata": {},
     "output_type": "display_data"
    },
    {
     "data": {
      "application/vnd.jupyter.widget-view+json": {
       "model_id": "3fa29b0ec3424b08a46d12abefdf5e7a",
       "version_major": 2,
       "version_minor": 0
      },
      "text/plain": [
       "Validation: 0it [00:00, ?it/s]"
      ]
     },
     "metadata": {},
     "output_type": "display_data"
    },
    {
     "data": {
      "application/vnd.jupyter.widget-view+json": {
       "model_id": "cbe45cc729c041f8859c5a991f39db8f",
       "version_major": 2,
       "version_minor": 0
      },
      "text/plain": [
       "Validation: 0it [00:00, ?it/s]"
      ]
     },
     "metadata": {},
     "output_type": "display_data"
    },
    {
     "data": {
      "application/vnd.jupyter.widget-view+json": {
       "model_id": "104e3f3eedd343aeb8d49654bace2a51",
       "version_major": 2,
       "version_minor": 0
      },
      "text/plain": [
       "Validation: 0it [00:00, ?it/s]"
      ]
     },
     "metadata": {},
     "output_type": "display_data"
    },
    {
     "data": {
      "application/vnd.jupyter.widget-view+json": {
       "model_id": "a87c9c24885e4053b8addd8fcf63e983",
       "version_major": 2,
       "version_minor": 0
      },
      "text/plain": [
       "Validation: 0it [00:00, ?it/s]"
      ]
     },
     "metadata": {},
     "output_type": "display_data"
    },
    {
     "data": {
      "application/vnd.jupyter.widget-view+json": {
       "model_id": "022d6a32ac574dafa7fd4882b733f1de",
       "version_major": 2,
       "version_minor": 0
      },
      "text/plain": [
       "Validation: 0it [00:00, ?it/s]"
      ]
     },
     "metadata": {},
     "output_type": "display_data"
    }
   ],
   "source": [
    "model = AudioCNN(nb_channels=config['n_channels'], nb_classes=config['n_classes'])\n",
    "# Create the trainer\n",
    "\n",
    "trainer = pl.Trainer(max_epochs=config['max_epochs'], callbacks=[checkpoint_callback, EarlyStopping(monitor='val_loss', patience=10)], logger=wandb_logger)\n",
    "# Fit the model\n",
    "trainer.fit(model, train_loader, val_loader)"
   ]
  },
  {
   "cell_type": "code",
   "execution_count": 113,
   "metadata": {},
   "outputs": [],
   "source": [
    "# load best model\n",
    "model = AudioCNN.load_from_checkpoint(checkpoint_callback.best_model_path)\n",
    "model.eval()\n",
    "\n",
    "device = torch.device('cuda' if torch.cuda.is_available() else 'cpu')\n",
    "\n",
    "# log the accuracy and confusion matrix\n",
    "y_true = []\n",
    "y_pred = []\n",
    "for batch in val_loader:\n",
    "    x, y = batch\n",
    "    x = x.to(device)\n",
    "    y = y.to(device)\n",
    "    logits = model(x)\n",
    "    preds = torch.argmax(logits, dim=1)\n",
    "    y_true.append(int(y))\n",
    "    y_pred.append(int(preds))\n",
    "\n",
    "# log the accuracy\n",
    "wandb_logger.experiment.log({\n",
    "    'best_val_acc': accuracy_score(y_true, y_pred)})\n",
    "\n",
    "# log the confusion matrix\n",
    "wandb_logger.experiment.log({\n",
    "    \"conf_mat\": wandb.plot.confusion_matrix(probs=None,\n",
    "                                            y_true=y_true,\n",
    "                                            preds=y_pred,\n",
    "                                            class_names=id_to_label,\n",
    "                                            title=\"Confusion Matrix\")\n",
    "})"
   ]
  },
  {
   "cell_type": "code",
   "execution_count": 114,
   "metadata": {},
   "outputs": [
    {
     "data": {
      "text/html": [
       "Waiting for W&B process to finish... <strong style=\"color:green\">(success).</strong>"
      ],
      "text/plain": [
       "<IPython.core.display.HTML object>"
      ]
     },
     "metadata": {},
     "output_type": "display_data"
    },
    {
     "data": {
      "text/html": [
       "<style>\n",
       "    table.wandb td:nth-child(1) { padding: 0 10px; text-align: left ; width: auto;} td:nth-child(2) {text-align: left ; width: 100%}\n",
       "    .wandb-row { display: flex; flex-direction: row; flex-wrap: wrap; justify-content: flex-start; width: 100% }\n",
       "    .wandb-col { display: flex; flex-direction: column; flex-basis: 100%; flex: 1; padding: 10px; }\n",
       "    </style>\n",
       "<div class=\"wandb-row\"><div class=\"wandb-col\"><h3>Run history:</h3><br/><table class=\"wandb\"><tr><td>best_val_acc</td><td>▁</td></tr><tr><td>epoch</td><td>▁▁▂▂▂▃▃▃▄▄▄▅▅▅▆▆▆▆▁▁▂▂▂▃▃▃▄▄▄▅▅▅▆▆▆▇▇▇██</td></tr><tr><td>test_acc</td><td>▅▅▅▆▄▇█▅▆▅▁</td></tr><tr><td>test_loss</td><td>▄▁▇▃▅▄▄▆█▄▆</td></tr><tr><td>train_acc</td><td>▁▂▃▃▄▄▄▅▅▅▅▅▆▆▆▆▇▂▃▃▃▄▄▄▅▅▅▆▆▆▆▆▆▇▇▇▇▇██</td></tr><tr><td>train_loss</td><td>█▇▆▆▅▅▅▄▄▄▄▄▃▃▃▃▂▇▆▆▆▅▅▅▄▄▄▃▃▃▃▃▂▂▂▂▂▁▁▁</td></tr><tr><td>trainer/global_step</td><td>▁▁▂▂▂▃▃▃▄▄▄▅▅▅▆▆▆▆▆▁▂▂▂▃▃▃▄▄▄▅▅▅▆▆▆▇▇▇██</td></tr><tr><td>val_acc</td><td>▁▁▂▃▄▄▅▅▄▅▆▅▆▅▆▆▆▁▃▅▅▄▅▆▆▆▇▅▇▇▇▇█▇█▇▇▇██</td></tr><tr><td>val_loss</td><td>█▇▆▅▄▄▃▃▄▃▄▂▃▄▃▄▃▆▅▄▄▃▃▃▂▂▁▂▁▄▁▁▁▁▁▂▂▂▂▃</td></tr></table><br/></div><div class=\"wandb-col\"><h3>Run summary:</h3><br/><table class=\"wandb\"><tr><td>best_val_acc</td><td>0.52716</td></tr><tr><td>epoch</td><td>43</td></tr><tr><td>test_acc</td><td>0.42812</td></tr><tr><td>test_loss</td><td>1.65405</td></tr><tr><td>train_acc</td><td>0.82692</td></tr><tr><td>train_loss</td><td>0.61374</td></tr><tr><td>trainer/global_step</td><td>1715</td></tr><tr><td>val_acc</td><td>0.53994</td></tr><tr><td>val_loss</td><td>1.66147</td></tr></table><br/></div></div>"
      ],
      "text/plain": [
       "<IPython.core.display.HTML object>"
      ]
     },
     "metadata": {},
     "output_type": "display_data"
    },
    {
     "data": {
      "text/html": [
       " View run <strong style=\"color:#cdcd00\">prime-moon-4</strong> at: <a href='https://wandb.ai/mlodimage/genre-detection-tuning/runs/d11chwbe' target=\"_blank\">https://wandb.ai/mlodimage/genre-detection-tuning/runs/d11chwbe</a><br/>Synced 6 W&B file(s), 3 media file(s), 33 artifact file(s) and 0 other file(s)"
      ],
      "text/plain": [
       "<IPython.core.display.HTML object>"
      ]
     },
     "metadata": {},
     "output_type": "display_data"
    },
    {
     "data": {
      "text/html": [
       "Find logs at: <code>./wandb/run-20230525_194408-d11chwbe/logs</code>"
      ],
      "text/plain": [
       "<IPython.core.display.HTML object>"
      ]
     },
     "metadata": {},
     "output_type": "display_data"
    }
   ],
   "source": [
    "wandb.finish()"
   ]
  },
  {
   "attachments": {},
   "cell_type": "markdown",
   "metadata": {},
   "source": []
  }
 ],
 "metadata": {
  "kernelspec": {
   "display_name": "Python 3",
   "language": "python",
   "name": "python3"
  },
  "language_info": {
   "codemirror_mode": {
    "name": "ipython",
    "version": 3
   },
   "file_extension": ".py",
   "mimetype": "text/x-python",
   "name": "python",
   "nbconvert_exporter": "python",
   "pygments_lexer": "ipython3",
   "version": "3.10.11"
  }
 },
 "nbformat": 4,
 "nbformat_minor": 0
}
