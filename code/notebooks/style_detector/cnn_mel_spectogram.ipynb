{
 "cells": [
  {
   "attachments": {},
   "cell_type": "markdown",
   "metadata": {
    "collapsed": false
   },
   "source": [
    "## Music Style Detector : CNN with Mel Spectogram\n",
    "\n",
    "This notebook contains experimentation to create a music style detector by building a CNN model with Mel spectogram as input. The model is trained on a custom part of the FMA dataset and evaluated on the GTZAN dataset.\n",
    "\n",
    "### 1. Imports and setup"
   ]
  },
  {
   "cell_type": "code",
   "execution_count": 1,
   "metadata": {},
   "outputs": [],
   "source": [
    "import torch\n",
    "import torch.nn as nn\n",
    "from torch.nn import init\n",
    "import torch.nn.functional as F\n",
    "import torchaudio\n",
    "from torch.utils.data import DataLoader, Dataset, random_split\n",
    "\n",
    "from sklearn.model_selection import train_test_split\n",
    "from datetime import datetime\n",
    "import wandb\n",
    "import matplotlib.pyplot as plt\n",
    "import IPython.display as ipd\n",
    "import numpy as np\n",
    "import pandas as pd\n",
    "import random\n",
    "import os\n",
    "import json\n",
    "\n",
    "MODEL_DIR = os.path.abspath(os.path.join(os.getcwd(), '../..', 'models', 'genre_detector'))\n",
    "DATA_DIR = os.path.join(MODEL_DIR, 'data')"
   ]
  },
  {
   "attachments": {},
   "cell_type": "markdown",
   "metadata": {},
   "source": [
    "### 2. Data pre-processing"
   ]
  },
  {
   "cell_type": "code",
   "execution_count": 2,
   "metadata": {},
   "outputs": [],
   "source": [
    "class AudioUtil():\n",
    "    \"\"\"\n",
    "    Utility class for audio processing.\n",
    "    \"\"\"\n",
    "    @staticmethod\n",
    "    def open(audio_file: str):\n",
    "        \"\"\"\n",
    "        Load an audio file. Return the signal as a tensor and the sample rate.\n",
    "        :param audio_file : Path to the audio file.\n",
    "        :type audio_file : str\n",
    "        :return: signal as a tensor and the sample rate\n",
    "        :rtype: Tuple[torch.Tensor, int]\n",
    "        \"\"\"\n",
    "        signal, sample_rate = torchaudio.load(audio_file)\n",
    "        return (signal, sample_rate)\n",
    "    \n",
    "    @staticmethod\n",
    "    def rechannel(audio, new_channel):\n",
    "        \"\"\"\n",
    "        Convert a given audio to the specified number of channels.\n",
    "        :param audio: the audio, composed of the signal and the sample rate\n",
    "        :type audio: Tuple[torch.Tensor, int]\n",
    "        :param new_channel: the target number of channels\n",
    "        :type new_channel: int\n",
    "        :return: the audio with the target number of channels\n",
    "        :rtype: Tuple[torch.Tensor, int]\n",
    "        \"\"\"\n",
    "        signal, sample_rate = audio\n",
    "\n",
    "        if (signal.shape[0] == new_channel):\n",
    "            # nothing to do as the signal already has the target number of channels\n",
    "            return audio\n",
    "        if (new_channel == 1):\n",
    "            # convert to mono by selecting only the first channel\n",
    "            signal = signal[:1, :]\n",
    "        else:\n",
    "            # convert to stereo by duplicating the first channel\n",
    "            signal = torch.cat([signal, signal])\n",
    "        return (signal, sample_rate)\n",
    "    \n",
    "    @staticmethod\n",
    "    def resample(audio, new_sample_rate):\n",
    "        \"\"\"\n",
    "        Change the sample rate of the audio signal.\n",
    "        :param audio: the audio, composed of the signal and the sample rate\n",
    "        :type audio: Tuple[torch.Tensor, int]\n",
    "        :param new_sample_rate: the target sample rate\n",
    "        :type new_sample_rate: int\n",
    "        :return: the audio with the target sample rate\n",
    "        :rtype: Tuple[torch.Tensor, int]\n",
    "        \"\"\"\n",
    "        signal, sample_rate = audio\n",
    "        if (sample_rate == new_sample_rate):\n",
    "            # nothing to do\n",
    "            return audio\n",
    "        resample = torchaudio.transforms.Resample(sample_rate, new_sample_rate)\n",
    "        signal = resample(signal)\n",
    "        return (signal, new_sample_rate)\n",
    "    \n",
    "    @staticmethod\n",
    "    def pad_truncate(audio, length):\n",
    "        \"\"\"\n",
    "        Pad or truncate an audio signal to a fixed length (in ms).\n",
    "        :param audio: the audio, composed of the signal and the sample rate\n",
    "        :type audio: Tuple[torch.Tensor, int]\n",
    "        :param length: the target length in ms\n",
    "        :type length: int\n",
    "        :return: the audio with the target length\n",
    "        :rtype: Tuple[torch.Tensor, int]\n",
    "        \"\"\"\n",
    "        signal, sample_rate = audio\n",
    "        max_length = sample_rate//1000 * length\n",
    "\n",
    "        if (signal.shape[1] > max_length):\n",
    "            signal = signal[:, :max_length]\n",
    "        elif (signal.shape[1] < max_length):\n",
    "            padding = max_length - signal.shape[1]\n",
    "            signal = F.pad(signal, (0, padding))\n",
    "        return (signal, sample_rate)\n",
    "    \n",
    "    @staticmethod\n",
    "    def mel_spectrogram(audio, n_mels=64, n_fft=1024, hop_length=None):\n",
    "        \"\"\"\n",
    "        Create the mel spectogram for the given audio signal.\n",
    "        :param audio: the audio, composed of the signal and the sample rate\n",
    "        :type audio: Tuple[torch.Tensor, int]\n",
    "        :param n_mels: the number of mel filterbanks\n",
    "        :type n_mels: int\n",
    "        :param n_fft: the size of the FFT\n",
    "        :type n_fft: int\n",
    "        :param hop_length: the length of hop between STFT windows\n",
    "        :type hop_length: int\n",
    "        :return: the mel spectogram\n",
    "        :rtype: torch.Tensor\n",
    "        \"\"\"\n",
    "        signal, sample_rate = audio\n",
    "        \n",
    "        mel_spectrogram = torchaudio.transforms.MelSpectrogram(\n",
    "            sample_rate,\n",
    "            n_fft=n_fft,\n",
    "            hop_length=hop_length,\n",
    "            n_mels=n_mels\n",
    "        )(signal)\n",
    "\n",
    "        # convert to decibels\n",
    "        mel_spectrogram = torchaudio.transforms.AmplitudeToDB()(mel_spectrogram)\n",
    "\n",
    "        return mel_spectrogram"
   ]
  },
  {
   "attachments": {},
   "cell_type": "markdown",
   "metadata": {},
   "source": [
    "### 3. Training data loading"
   ]
  },
  {
   "cell_type": "code",
   "execution_count": 3,
   "metadata": {},
   "outputs": [
    {
     "ename": "FileNotFoundError",
     "evalue": "[Errno 2] No such file or directory: 'c:\\\\Users\\\\benja\\\\Projects\\\\MLodImage\\\\code\\\\models\\\\style_detector\\\\data\\\\FMA\\\\fma_reduced_genres.csv'",
     "output_type": "error",
     "traceback": [
      "\u001b[1;31m---------------------------------------------------------------------------\u001b[0m",
      "\u001b[1;31mFileNotFoundError\u001b[0m                         Traceback (most recent call last)",
      "Cell \u001b[1;32mIn[3], line 3\u001b[0m\n\u001b[0;32m      1\u001b[0m FMA_DIR \u001b[39m=\u001b[39m os\u001b[39m.\u001b[39mpath\u001b[39m.\u001b[39mjoin(DATA_DIR, \u001b[39m'\u001b[39m\u001b[39mFMA\u001b[39m\u001b[39m'\u001b[39m)\n\u001b[0;32m      2\u001b[0m GTZAN_DIR \u001b[39m=\u001b[39m os\u001b[39m.\u001b[39mpath\u001b[39m.\u001b[39mjoin(DATA_DIR, \u001b[39m'\u001b[39m\u001b[39mGTZAN\u001b[39m\u001b[39m'\u001b[39m)\n\u001b[1;32m----> 3\u001b[0m fma_df \u001b[39m=\u001b[39m pd\u001b[39m.\u001b[39;49mread_csv(os\u001b[39m.\u001b[39;49mpath\u001b[39m.\u001b[39;49mjoin(FMA_DIR, \u001b[39m'\u001b[39;49m\u001b[39mfma_reduced_genres.csv\u001b[39;49m\u001b[39m'\u001b[39;49m))\n\u001b[0;32m      4\u001b[0m gtzan_df \u001b[39m=\u001b[39m pd\u001b[39m.\u001b[39mread_csv(os\u001b[39m.\u001b[39mpath\u001b[39m.\u001b[39mjoin(GTZAN_DIR, \u001b[39m'\u001b[39m\u001b[39mgtzan_genres.csv\u001b[39m\u001b[39m'\u001b[39m))\n\u001b[0;32m      5\u001b[0m fma_df\u001b[39m.\u001b[39mhead()\n",
      "File \u001b[1;32mc:\\Users\\benja\\anaconda3\\envs\\pi_mlodimage\\lib\\site-packages\\pandas\\util\\_decorators.py:211\u001b[0m, in \u001b[0;36mdeprecate_kwarg.<locals>._deprecate_kwarg.<locals>.wrapper\u001b[1;34m(*args, **kwargs)\u001b[0m\n\u001b[0;32m    209\u001b[0m     \u001b[39melse\u001b[39;00m:\n\u001b[0;32m    210\u001b[0m         kwargs[new_arg_name] \u001b[39m=\u001b[39m new_arg_value\n\u001b[1;32m--> 211\u001b[0m \u001b[39mreturn\u001b[39;00m func(\u001b[39m*\u001b[39margs, \u001b[39m*\u001b[39m\u001b[39m*\u001b[39mkwargs)\n",
      "File \u001b[1;32mc:\\Users\\benja\\anaconda3\\envs\\pi_mlodimage\\lib\\site-packages\\pandas\\util\\_decorators.py:331\u001b[0m, in \u001b[0;36mdeprecate_nonkeyword_arguments.<locals>.decorate.<locals>.wrapper\u001b[1;34m(*args, **kwargs)\u001b[0m\n\u001b[0;32m    325\u001b[0m \u001b[39mif\u001b[39;00m \u001b[39mlen\u001b[39m(args) \u001b[39m>\u001b[39m num_allow_args:\n\u001b[0;32m    326\u001b[0m     warnings\u001b[39m.\u001b[39mwarn(\n\u001b[0;32m    327\u001b[0m         msg\u001b[39m.\u001b[39mformat(arguments\u001b[39m=\u001b[39m_format_argument_list(allow_args)),\n\u001b[0;32m    328\u001b[0m         \u001b[39mFutureWarning\u001b[39;00m,\n\u001b[0;32m    329\u001b[0m         stacklevel\u001b[39m=\u001b[39mfind_stack_level(),\n\u001b[0;32m    330\u001b[0m     )\n\u001b[1;32m--> 331\u001b[0m \u001b[39mreturn\u001b[39;00m func(\u001b[39m*\u001b[39margs, \u001b[39m*\u001b[39m\u001b[39m*\u001b[39mkwargs)\n",
      "File \u001b[1;32mc:\\Users\\benja\\anaconda3\\envs\\pi_mlodimage\\lib\\site-packages\\pandas\\io\\parsers\\readers.py:950\u001b[0m, in \u001b[0;36mread_csv\u001b[1;34m(filepath_or_buffer, sep, delimiter, header, names, index_col, usecols, squeeze, prefix, mangle_dupe_cols, dtype, engine, converters, true_values, false_values, skipinitialspace, skiprows, skipfooter, nrows, na_values, keep_default_na, na_filter, verbose, skip_blank_lines, parse_dates, infer_datetime_format, keep_date_col, date_parser, dayfirst, cache_dates, iterator, chunksize, compression, thousands, decimal, lineterminator, quotechar, quoting, doublequote, escapechar, comment, encoding, encoding_errors, dialect, error_bad_lines, warn_bad_lines, on_bad_lines, delim_whitespace, low_memory, memory_map, float_precision, storage_options)\u001b[0m\n\u001b[0;32m    935\u001b[0m kwds_defaults \u001b[39m=\u001b[39m _refine_defaults_read(\n\u001b[0;32m    936\u001b[0m     dialect,\n\u001b[0;32m    937\u001b[0m     delimiter,\n\u001b[1;32m   (...)\u001b[0m\n\u001b[0;32m    946\u001b[0m     defaults\u001b[39m=\u001b[39m{\u001b[39m\"\u001b[39m\u001b[39mdelimiter\u001b[39m\u001b[39m\"\u001b[39m: \u001b[39m\"\u001b[39m\u001b[39m,\u001b[39m\u001b[39m\"\u001b[39m},\n\u001b[0;32m    947\u001b[0m )\n\u001b[0;32m    948\u001b[0m kwds\u001b[39m.\u001b[39mupdate(kwds_defaults)\n\u001b[1;32m--> 950\u001b[0m \u001b[39mreturn\u001b[39;00m _read(filepath_or_buffer, kwds)\n",
      "File \u001b[1;32mc:\\Users\\benja\\anaconda3\\envs\\pi_mlodimage\\lib\\site-packages\\pandas\\io\\parsers\\readers.py:605\u001b[0m, in \u001b[0;36m_read\u001b[1;34m(filepath_or_buffer, kwds)\u001b[0m\n\u001b[0;32m    602\u001b[0m _validate_names(kwds\u001b[39m.\u001b[39mget(\u001b[39m\"\u001b[39m\u001b[39mnames\u001b[39m\u001b[39m\"\u001b[39m, \u001b[39mNone\u001b[39;00m))\n\u001b[0;32m    604\u001b[0m \u001b[39m# Create the parser.\u001b[39;00m\n\u001b[1;32m--> 605\u001b[0m parser \u001b[39m=\u001b[39m TextFileReader(filepath_or_buffer, \u001b[39m*\u001b[39m\u001b[39m*\u001b[39mkwds)\n\u001b[0;32m    607\u001b[0m \u001b[39mif\u001b[39;00m chunksize \u001b[39mor\u001b[39;00m iterator:\n\u001b[0;32m    608\u001b[0m     \u001b[39mreturn\u001b[39;00m parser\n",
      "File \u001b[1;32mc:\\Users\\benja\\anaconda3\\envs\\pi_mlodimage\\lib\\site-packages\\pandas\\io\\parsers\\readers.py:1442\u001b[0m, in \u001b[0;36mTextFileReader.__init__\u001b[1;34m(self, f, engine, **kwds)\u001b[0m\n\u001b[0;32m   1439\u001b[0m     \u001b[39mself\u001b[39m\u001b[39m.\u001b[39moptions[\u001b[39m\"\u001b[39m\u001b[39mhas_index_names\u001b[39m\u001b[39m\"\u001b[39m] \u001b[39m=\u001b[39m kwds[\u001b[39m\"\u001b[39m\u001b[39mhas_index_names\u001b[39m\u001b[39m\"\u001b[39m]\n\u001b[0;32m   1441\u001b[0m \u001b[39mself\u001b[39m\u001b[39m.\u001b[39mhandles: IOHandles \u001b[39m|\u001b[39m \u001b[39mNone\u001b[39;00m \u001b[39m=\u001b[39m \u001b[39mNone\u001b[39;00m\n\u001b[1;32m-> 1442\u001b[0m \u001b[39mself\u001b[39m\u001b[39m.\u001b[39m_engine \u001b[39m=\u001b[39m \u001b[39mself\u001b[39;49m\u001b[39m.\u001b[39;49m_make_engine(f, \u001b[39mself\u001b[39;49m\u001b[39m.\u001b[39;49mengine)\n",
      "File \u001b[1;32mc:\\Users\\benja\\anaconda3\\envs\\pi_mlodimage\\lib\\site-packages\\pandas\\io\\parsers\\readers.py:1735\u001b[0m, in \u001b[0;36mTextFileReader._make_engine\u001b[1;34m(self, f, engine)\u001b[0m\n\u001b[0;32m   1733\u001b[0m     \u001b[39mif\u001b[39;00m \u001b[39m\"\u001b[39m\u001b[39mb\u001b[39m\u001b[39m\"\u001b[39m \u001b[39mnot\u001b[39;00m \u001b[39min\u001b[39;00m mode:\n\u001b[0;32m   1734\u001b[0m         mode \u001b[39m+\u001b[39m\u001b[39m=\u001b[39m \u001b[39m\"\u001b[39m\u001b[39mb\u001b[39m\u001b[39m\"\u001b[39m\n\u001b[1;32m-> 1735\u001b[0m \u001b[39mself\u001b[39m\u001b[39m.\u001b[39mhandles \u001b[39m=\u001b[39m get_handle(\n\u001b[0;32m   1736\u001b[0m     f,\n\u001b[0;32m   1737\u001b[0m     mode,\n\u001b[0;32m   1738\u001b[0m     encoding\u001b[39m=\u001b[39;49m\u001b[39mself\u001b[39;49m\u001b[39m.\u001b[39;49moptions\u001b[39m.\u001b[39;49mget(\u001b[39m\"\u001b[39;49m\u001b[39mencoding\u001b[39;49m\u001b[39m\"\u001b[39;49m, \u001b[39mNone\u001b[39;49;00m),\n\u001b[0;32m   1739\u001b[0m     compression\u001b[39m=\u001b[39;49m\u001b[39mself\u001b[39;49m\u001b[39m.\u001b[39;49moptions\u001b[39m.\u001b[39;49mget(\u001b[39m\"\u001b[39;49m\u001b[39mcompression\u001b[39;49m\u001b[39m\"\u001b[39;49m, \u001b[39mNone\u001b[39;49;00m),\n\u001b[0;32m   1740\u001b[0m     memory_map\u001b[39m=\u001b[39;49m\u001b[39mself\u001b[39;49m\u001b[39m.\u001b[39;49moptions\u001b[39m.\u001b[39;49mget(\u001b[39m\"\u001b[39;49m\u001b[39mmemory_map\u001b[39;49m\u001b[39m\"\u001b[39;49m, \u001b[39mFalse\u001b[39;49;00m),\n\u001b[0;32m   1741\u001b[0m     is_text\u001b[39m=\u001b[39;49mis_text,\n\u001b[0;32m   1742\u001b[0m     errors\u001b[39m=\u001b[39;49m\u001b[39mself\u001b[39;49m\u001b[39m.\u001b[39;49moptions\u001b[39m.\u001b[39;49mget(\u001b[39m\"\u001b[39;49m\u001b[39mencoding_errors\u001b[39;49m\u001b[39m\"\u001b[39;49m, \u001b[39m\"\u001b[39;49m\u001b[39mstrict\u001b[39;49m\u001b[39m\"\u001b[39;49m),\n\u001b[0;32m   1743\u001b[0m     storage_options\u001b[39m=\u001b[39;49m\u001b[39mself\u001b[39;49m\u001b[39m.\u001b[39;49moptions\u001b[39m.\u001b[39;49mget(\u001b[39m\"\u001b[39;49m\u001b[39mstorage_options\u001b[39;49m\u001b[39m\"\u001b[39;49m, \u001b[39mNone\u001b[39;49;00m),\n\u001b[0;32m   1744\u001b[0m )\n\u001b[0;32m   1745\u001b[0m \u001b[39massert\u001b[39;00m \u001b[39mself\u001b[39m\u001b[39m.\u001b[39mhandles \u001b[39mis\u001b[39;00m \u001b[39mnot\u001b[39;00m \u001b[39mNone\u001b[39;00m\n\u001b[0;32m   1746\u001b[0m f \u001b[39m=\u001b[39m \u001b[39mself\u001b[39m\u001b[39m.\u001b[39mhandles\u001b[39m.\u001b[39mhandle\n",
      "File \u001b[1;32mc:\\Users\\benja\\anaconda3\\envs\\pi_mlodimage\\lib\\site-packages\\pandas\\io\\common.py:856\u001b[0m, in \u001b[0;36mget_handle\u001b[1;34m(path_or_buf, mode, encoding, compression, memory_map, is_text, errors, storage_options)\u001b[0m\n\u001b[0;32m    851\u001b[0m \u001b[39melif\u001b[39;00m \u001b[39misinstance\u001b[39m(handle, \u001b[39mstr\u001b[39m):\n\u001b[0;32m    852\u001b[0m     \u001b[39m# Check whether the filename is to be opened in binary mode.\u001b[39;00m\n\u001b[0;32m    853\u001b[0m     \u001b[39m# Binary mode does not support 'encoding' and 'newline'.\u001b[39;00m\n\u001b[0;32m    854\u001b[0m     \u001b[39mif\u001b[39;00m ioargs\u001b[39m.\u001b[39mencoding \u001b[39mand\u001b[39;00m \u001b[39m\"\u001b[39m\u001b[39mb\u001b[39m\u001b[39m\"\u001b[39m \u001b[39mnot\u001b[39;00m \u001b[39min\u001b[39;00m ioargs\u001b[39m.\u001b[39mmode:\n\u001b[0;32m    855\u001b[0m         \u001b[39m# Encoding\u001b[39;00m\n\u001b[1;32m--> 856\u001b[0m         handle \u001b[39m=\u001b[39m \u001b[39mopen\u001b[39;49m(\n\u001b[0;32m    857\u001b[0m             handle,\n\u001b[0;32m    858\u001b[0m             ioargs\u001b[39m.\u001b[39;49mmode,\n\u001b[0;32m    859\u001b[0m             encoding\u001b[39m=\u001b[39;49mioargs\u001b[39m.\u001b[39;49mencoding,\n\u001b[0;32m    860\u001b[0m             errors\u001b[39m=\u001b[39;49merrors,\n\u001b[0;32m    861\u001b[0m             newline\u001b[39m=\u001b[39;49m\u001b[39m\"\u001b[39;49m\u001b[39m\"\u001b[39;49m,\n\u001b[0;32m    862\u001b[0m         )\n\u001b[0;32m    863\u001b[0m     \u001b[39melse\u001b[39;00m:\n\u001b[0;32m    864\u001b[0m         \u001b[39m# Binary mode\u001b[39;00m\n\u001b[0;32m    865\u001b[0m         handle \u001b[39m=\u001b[39m \u001b[39mopen\u001b[39m(handle, ioargs\u001b[39m.\u001b[39mmode)\n",
      "\u001b[1;31mFileNotFoundError\u001b[0m: [Errno 2] No such file or directory: 'c:\\\\Users\\\\benja\\\\Projects\\\\MLodImage\\\\code\\\\models\\\\style_detector\\\\data\\\\FMA\\\\fma_reduced_genres.csv'"
     ]
    }
   ],
   "source": [
    "FMA_DIR = os.path.join(DATA_DIR, 'FMA')\n",
    "GTZAN_DIR = os.path.join(DATA_DIR, 'GTZAN')\n",
    "fma_df = pd.read_csv(os.path.join(FMA_DIR, 'fma_reduced_genres.csv'))\n",
    "gtzan_df = pd.read_csv(os.path.join(GTZAN_DIR, 'gtzan_genres.csv'))\n",
    "fma_df.head()"
   ]
  },
  {
   "cell_type": "code",
   "execution_count": 9,
   "metadata": {},
   "outputs": [
    {
     "name": "stdout",
     "output_type": "stream",
     "text": [
      "{1: 'Classical', 4: 'Electronic', 5: 'Hip-Hop', 8: 'Pop', 10: 'Rock', 6: 'Jazz', 9: 'Reggae', 3: 'Disco', 0: 'Blues', 2: 'Country', 7: 'Metal'}\n"
     ]
    }
   ],
   "source": [
    "# create a map of the genre_id to genre_label\n",
    "id_to_label = fma_df.set_index('genre_id')['genre_label'].to_dict()\n",
    "print(id_to_label)"
   ]
  },
  {
   "cell_type": "code",
   "execution_count": 10,
   "metadata": {},
   "outputs": [
    {
     "name": "stdout",
     "output_type": "stream",
     "text": [
      "11\n"
     ]
    }
   ],
   "source": [
    "AUDIO_DURATION = 3000 # equals 30 seconds\n",
    "SAMPLE_RATE = 44100\n",
    "N_CHANNELS = 1\n",
    "BATCH_SIZE = 32\n",
    "NB_CLASSES = fma_df['genre_id'].nunique()\n",
    "print(NB_CLASSES)"
   ]
  },
  {
   "cell_type": "code",
   "execution_count": 11,
   "metadata": {},
   "outputs": [],
   "source": [
    "class GenreDataset(Dataset):\n",
    "    \"\"\"\n",
    "    Dataset for the FMA dataset.\n",
    "    \"\"\"\n",
    "    def __init__(self, df, audio_dir):\n",
    "        \"\"\"\n",
    "        Constructor.\n",
    "        :param df: the dataframe containing the audio files ids and their genre label\n",
    "        :type df: pandas.DataFrame\n",
    "        :param audio_dir: the directory containing the audio files\n",
    "        :type audio_dir: str\n",
    "        \"\"\"\n",
    "        self.fma_df = df\n",
    "        self.audio_dir = audio_dir\n",
    "        \n",
    "    def __len__(self):\n",
    "        \"\"\"\n",
    "        Get the length of the dataset.\n",
    "        :return: the length of the dataset\n",
    "        :rtype: int\n",
    "        \"\"\"\n",
    "        return len(self.fma_df)\n",
    "    \n",
    "    def __getitem__(self, idx):\n",
    "        \"\"\"\n",
    "        Get the idx-th sample of the dataset.\n",
    "        :param idx: the index of the sample\n",
    "        :type idx: int\n",
    "        :return: the idx-th sample of the dataset and its genre label\n",
    "        :rtype: Tuple[torch.Tensor, int]\n",
    "        \"\"\" \n",
    "        audio_file_path = os.path.join(self.audio_dir, str(self.fma_df.iloc[idx]['filename']))\n",
    "        # get the genre class id\n",
    "        genre_id = self.fma_df.iloc[idx]['genre_id']\n",
    "\n",
    "        # load the audio file and apply the preprocessing\n",
    "        audio = AudioUtil.open(audio_file_path)\n",
    "        audio = AudioUtil.rechannel(audio, N_CHANNELS)\n",
    "        audio = AudioUtil.resample(audio, SAMPLE_RATE)\n",
    "        audio = AudioUtil.pad_truncate(audio, AUDIO_DURATION)\n",
    "        mel_spectrogram = AudioUtil.mel_spectrogram(audio)\n",
    "\n",
    "        return (mel_spectrogram, genre_id)"
   ]
  },
  {
   "cell_type": "code",
   "execution_count": 12,
   "metadata": {},
   "outputs": [
    {
     "name": "stdout",
     "output_type": "stream",
     "text": [
      "64 258\n"
     ]
    },
    {
     "data": {
      "image/png": "[encoded data removed]",
      "text/plain": [
       "<Figure size 1000x400 with 1 Axes>"
      ]
     },
     "metadata": {},
     "output_type": "display_data"
    }
   ],
   "source": [
    "full_dataset = GenreDataset(fma_df, os.path.join(FMA_DIR, 'fma_reduced'))\n",
    "\n",
    "# random split\n",
    "nb_samples = len(full_dataset)\n",
    "nb_train_samples = int(nb_samples * 0.8)\n",
    "nb_val_samples = nb_samples - nb_train_samples\n",
    "train_dataset, val_dataset = random_split(full_dataset, [nb_train_samples, nb_val_samples])\n",
    "\n",
    "# create the data loaders\n",
    "train_loader = DataLoader(train_dataset, batch_size=BATCH_SIZE, shuffle=True, pin_memory=True)\n",
    "val_loader = DataLoader(val_dataset, batch_size=BATCH_SIZE, shuffle=False, pin_memory=True)\n",
    "\n",
    "# get first batch\n",
    "batch = next(iter(train_loader))\n",
    "\n",
    "mel_spectrogram = batch[0][0]\n",
    "# print shape of the mel spectrogram\n",
    "INPUT_HEIGHT = mel_spectrogram.shape[1]\n",
    "INPUT_WIDTH = mel_spectrogram.shape[2]\n",
    "print(INPUT_HEIGHT, INPUT_WIDTH)\n",
    "# plot the two channels as image\n",
    "plt.figure(figsize=(10, 4))\n",
    "plt.imshow(mel_spectrogram[0].numpy(), cmap='hot', interpolation='nearest')\n",
    "plt.show()"
   ]
  },
  {
   "cell_type": "code",
   "execution_count": 13,
   "metadata": {},
   "outputs": [
    {
     "data": {
      "image/png": "[encoded data removed]",
      "text/plain": [
       "<Figure size 1000x400 with 1 Axes>"
      ]
     },
     "metadata": {},
     "output_type": "display_data"
    }
   ],
   "source": [
    "gtzan_dataset = GenreDataset(gtzan_df, os.path.join(GTZAN_DIR, 'genres_original_all'))\n",
    "\n",
    "test_loader = DataLoader(gtzan_dataset, batch_size=BATCH_SIZE, shuffle=False)\n",
    "\n",
    "# get first batch\n",
    "batch = next(iter(test_loader))\n",
    "\n",
    "mel_spectrogram = batch[0][0]\n",
    "plt.figure(figsize=(10, 4))\n",
    "plt.imshow(mel_spectrogram[0].numpy(), cmap='hot', interpolation='nearest')\n",
    "plt.show()"
   ]
  },
  {
   "attachments": {},
   "cell_type": "markdown",
   "metadata": {},
   "source": [
    "### 4. Model creation"
   ]
  },
  {
   "cell_type": "code",
   "execution_count": 14,
   "metadata": {},
   "outputs": [],
   "source": [
    "class AudioCNN(nn.Module):\n",
    "    \"\"\"\n",
    "    Simple CNN for audio classification.\n",
    "    \"\"\"\n",
    "    def __init__(self):\n",
    "        super().__init__()\n",
    "        self.conv1 = nn.Conv2d(1, 16, kernel_size=3, stride=1, padding=1)\n",
    "        self.conv2 = nn.Conv2d(16, 32, kernel_size=3, stride=1, padding=1)\n",
    "        self.conv3 = nn.Conv2d(32, 64, kernel_size=3, stride=1, padding=1)\n",
    "        self.pool = nn.MaxPool2d(2, 2)\n",
    "        self.fc1 = nn.Linear(64 * INPUT_HEIGHT//2 * INPUT_WIDTH//2, 256)\n",
    "        self.fc2 = nn.Linear(256, NB_CLASSES)\n",
    "\n",
    "    def forward(self, x):\n",
    "        x = (F.relu(self.conv1(x)))\n",
    "        x = (F.relu(self.conv2(x)))\n",
    "        x = self.pool(F.relu(self.conv3(x)))\n",
    "        x = torch.flatten(x, 1)\n",
    "        x = F.relu(self.fc1(x))\n",
    "        x = self.fc2(x)\n",
    "\n",
    "        return x\n"
   ]
  },
  {
   "cell_type": "code",
   "execution_count": 15,
   "metadata": {},
   "outputs": [
    {
     "data": {
      "text/plain": [
       "device(type='cuda', index=0)"
      ]
     },
     "execution_count": 15,
     "metadata": {},
     "output_type": "execute_result"
    }
   ],
   "source": [
    "# Create the model and put it on the GPU if available\n",
    "model = AudioCNN()\n",
    "device = torch.device(\"cuda\" if torch.cuda.is_available() else \"cpu\")\n",
    "model = model.to(device)\n",
    "# Check that it is on Cuda\n",
    "next(model.parameters()).device"
   ]
  },
  {
   "attachments": {},
   "cell_type": "markdown",
   "metadata": {},
   "source": [
    "### 5. Model training"
   ]
  },
  {
   "cell_type": "code",
   "execution_count": 11,
   "metadata": {},
   "outputs": [],
   "source": [
    "def validate(model, val_loader, criterion):\n",
    "    model.eval()\n",
    "\n",
    "    with torch.no_grad():\n",
    "        val_loss = 0.0\n",
    "        correct, total = 0, 0\n",
    "        y_true, y_pred = [], []\n",
    "        for batch_idx, (inputs, labels) in enumerate(val_loader):\n",
    "            inputs, labels = inputs.to(device), labels.to(device)\n",
    "\n",
    "            outputs = model(inputs)\n",
    "            loss = criterion(outputs, labels)\n",
    "            val_loss += loss.item()\n",
    "\n",
    "            _, predicted = torch.max(outputs.data, 1)\n",
    "            total += labels.size(0)\n",
    "            correct += (predicted == labels).sum().item()\n",
    "\n",
    "            y_true.extend(labels.cpu().numpy())\n",
    "            y_pred.extend(predicted.cpu().numpy())\n",
    "\n",
    "        return val_loss / len(val_loader), correct / total, y_true, y_pred"
   ]
  },
  {
   "cell_type": "code",
   "execution_count": 12,
   "metadata": {},
   "outputs": [
    {
     "name": "stderr",
     "output_type": "stream",
     "text": [
      "Failed to detect the name of this notebook, you can set it manually with the WANDB_NOTEBOOK_NAME environment variable to enable code saving.\n",
      "\u001b[34m\u001b[1mwandb\u001b[0m: Currently logged in as: \u001b[33mbenjamin-pasquier\u001b[0m. Use \u001b[1m`wandb login --relogin`\u001b[0m to force relogin\n"
     ]
    },
    {
     "data": {
      "text/html": [
       "wandb version 0.15.1 is available!  To upgrade, please run:\n",
       " $ pip install wandb --upgrade"
      ],
      "text/plain": [
       "<IPython.core.display.HTML object>"
      ]
     },
     "metadata": {},
     "output_type": "display_data"
    },
    {
     "data": {
      "text/html": [
       "Tracking run with wandb version 0.15.0"
      ],
      "text/plain": [
       "<IPython.core.display.HTML object>"
      ]
     },
     "metadata": {},
     "output_type": "display_data"
    },
    {
     "data": {
      "text/html": [
       "Run data is saved locally in <code>c:\\Users\\benja\\Projects\\MLodImage\\code\\notebooks\\style_detector\\wandb\\run-20230503_185046-kayad0oi</code>"
      ],
      "text/plain": [
       "<IPython.core.display.HTML object>"
      ]
     },
     "metadata": {},
     "output_type": "display_data"
    },
    {
     "data": {
      "text/html": [
       "Syncing run <strong><a href='https://wandb.ai/benjamin-pasquier/audio-classification/runs/kayad0oi' target=\"_blank\">cnn-2305031850</a></strong> to <a href='https://wandb.ai/benjamin-pasquier/audio-classification' target=\"_blank\">Weights & Biases</a> (<a href='https://wandb.me/run' target=\"_blank\">docs</a>)<br/>"
      ],
      "text/plain": [
       "<IPython.core.display.HTML object>"
      ]
     },
     "metadata": {},
     "output_type": "display_data"
    },
    {
     "data": {
      "text/html": [
       " View project at <a href='https://wandb.ai/benjamin-pasquier/audio-classification' target=\"_blank\">https://wandb.ai/benjamin-pasquier/audio-classification</a>"
      ],
      "text/plain": [
       "<IPython.core.display.HTML object>"
      ]
     },
     "metadata": {},
     "output_type": "display_data"
    },
    {
     "data": {
      "text/html": [
       " View run at <a href='https://wandb.ai/benjamin-pasquier/audio-classification/runs/kayad0oi' target=\"_blank\">https://wandb.ai/benjamin-pasquier/audio-classification/runs/kayad0oi</a>"
      ],
      "text/plain": [
       "<IPython.core.display.HTML object>"
      ]
     },
     "metadata": {},
     "output_type": "display_data"
    }
   ],
   "source": [
    "date_time = datetime.now().strftime(\"%y%m%d%H%M\")\n",
    "wandb.init(project=\"audio-classification\", name=\"cnn-{}\".format(date_time), notes=\"baseline model\", config={\n",
    "    \"learning_rate\": 0.001,\n",
    "    \"epochs\": 30,\n",
    "    \"batch_size\": BATCH_SIZE,\n",
    "    \"loss_function\": \"cross-entropy\",\n",
    "    \"architecture\": \"CNN\",\n",
    "    \"dataset\": \"FMA\",\n",
    "    \"optimizer\": \"Adam\"\n",
    "    })\n",
    "\n",
    "config = wandb.config\n"
   ]
  },
  {
   "cell_type": "code",
   "execution_count": 13,
   "metadata": {},
   "outputs": [],
   "source": [
    "criterion = nn.CrossEntropyLoss()\n",
    "optimizer = torch.optim.Adam(model.parameters(), lr=config.learning_rate)"
   ]
  },
  {
   "cell_type": "code",
   "execution_count": 14,
   "metadata": {},
   "outputs": [
    {
     "name": "stdout",
     "output_type": "stream",
     "text": [
      "Finished Training\n"
     ]
    },
    {
     "data": {
      "text/html": [
       "Waiting for W&B process to finish... <strong style=\"color:green\">(success).</strong>"
      ],
      "text/plain": [
       "<IPython.core.display.HTML object>"
      ]
     },
     "metadata": {},
     "output_type": "display_data"
    },
    {
     "data": {
      "application/vnd.jupyter.widget-view+json": {
       "model_id": "1b0ea5dd3c924dce9b05d580b9621f02",
       "version_major": 2,
       "version_minor": 0
      },
      "text/plain": [
       "VBox(children=(Label(value='0.005 MB of 0.008 MB uploaded (0.000 MB deduped)\\r'), FloatProgress(value=0.605828…"
      ]
     },
     "metadata": {},
     "output_type": "display_data"
    },
    {
     "data": {
      "text/html": [
       "<style>\n",
       "    table.wandb td:nth-child(1) { padding: 0 10px; text-align: left ; width: auto;} td:nth-child(2) {text-align: left ; width: 100%}\n",
       "    .wandb-row { display: flex; flex-direction: row; flex-wrap: wrap; justify-content: flex-start; width: 100% }\n",
       "    .wandb-col { display: flex; flex-direction: column; flex-basis: 100%; flex: 1; padding: 10px; }\n",
       "    </style>\n",
       "<div class=\"wandb-row\"><div class=\"wandb-col\"><h3>Run history:</h3><br/><table class=\"wandb\"><tr><td>epoch</td><td>▁▁▁▂▂▂▂▃▃▃▃▄▄▄▄▅▅▅▅▆▆▆▆▇▇▇▇███</td></tr><tr><td>train_accuracy</td><td>▁▂▃▅▇█████████████████████████</td></tr><tr><td>train_loss</td><td>█▃▃▂▂▁▁▁▁▁▁▁▁▁▁▁▁▁▁▁▁▁▁▁▁▁▁▁▁▁</td></tr><tr><td>val_accuracy</td><td>▆▆█▆▅▃▃▄▁▂▂▃▄▃▅▅▅▅▅▅▅▅▅▅▅▅▄▅▅▅</td></tr><tr><td>val_loss</td><td>▁▁▁▂▃▄▅▅▆▅▆▆▇▇▆▆▇▇▇▇▇▇▇▇▇▇▇███</td></tr></table><br/></div><div class=\"wandb-col\"><h3>Run summary:</h3><br/><table class=\"wandb\"><tr><td>epoch</td><td>29</td></tr><tr><td>train_accuracy</td><td>0.99886</td></tr><tr><td>train_loss</td><td>0.00106</td></tr><tr><td>val_accuracy</td><td>0.39756</td></tr><tr><td>val_loss</td><td>5.98646</td></tr></table><br/></div></div>"
      ],
      "text/plain": [
       "<IPython.core.display.HTML object>"
      ]
     },
     "metadata": {},
     "output_type": "display_data"
    },
    {
     "data": {
      "text/html": [
       " View run <strong style=\"color:#cdcd00\">cnn-2305031850</strong> at: <a href='https://wandb.ai/benjamin-pasquier/audio-classification/runs/kayad0oi' target=\"_blank\">https://wandb.ai/benjamin-pasquier/audio-classification/runs/kayad0oi</a><br/>Synced 6 W&B file(s), 1 media file(s), 1 artifact file(s) and 0 other file(s)"
      ],
      "text/plain": [
       "<IPython.core.display.HTML object>"
      ]
     },
     "metadata": {},
     "output_type": "display_data"
    },
    {
     "data": {
      "text/html": [
       "Find logs at: <code>.\\wandb\\run-20230503_185046-kayad0oi\\logs</code>"
      ],
      "text/plain": [
       "<IPython.core.display.HTML object>"
      ]
     },
     "metadata": {},
     "output_type": "display_data"
    }
   ],
   "source": [
    "for epoch in range(config.epochs):\n",
    "    model.train() # put model to training mode\n",
    "    correct, total = 0, 0\n",
    "    training_loss = 0.0\n",
    "    for i, data in enumerate(train_loader):\n",
    "        inputs, labels = data[0].to(device), data[1].to(device)\n",
    "        \n",
    "        outputs = model(inputs)\n",
    "        train_loss = criterion(outputs, labels)\n",
    "        optimizer.zero_grad()\n",
    "        train_loss.backward()\n",
    "        optimizer.step()\n",
    "\n",
    "        training_loss += train_loss.item()\n",
    "        \n",
    "        _, predicted = torch.max(outputs.data, 1)\n",
    "        total += labels.size(0) # nb of samples in batch\n",
    "        correct += (predicted == labels).sum().item()\n",
    "\n",
    "    val_loss, val_accuracy, y_true, y_pred = validate(model, val_loader, criterion)\n",
    "\n",
    "    metrics = {'epoch': epoch, 'train_loss': training_loss / len(train_loader),\n",
    "                   'train_accuracy': correct / total, 'val_loss': val_loss,\n",
    "                   'val_accuracy': val_accuracy}\n",
    "    \n",
    "    wandb.log(metrics)\n",
    "    \n",
    "    if epoch + 1 == config.epochs:\n",
    "        wandb.log({'confusion_matrix': wandb.plot.confusion_matrix(probs=None, y_true=y_true,\n",
    "                                                                    preds=y_pred,\n",
    "                                                                    class_names=list(id_to_label.values()))})\n",
    "        wandb.save('cnn-{}.h5'.format(date_time))\n",
    "        \n",
    "print('Finished Training')\n",
    "wandb.finish()\n"
   ]
  },
  {
   "attachments": {},
   "cell_type": "markdown",
   "metadata": {},
   "source": [
    "### 5. Model evaluation"
   ]
  },
  {
   "cell_type": "code",
   "execution_count": 15,
   "metadata": {},
   "outputs": [
    {
     "name": "stdout",
     "output_type": "stream",
     "text": [
      "Accuracy of the network on the 1313 validation samples: 39.75628332063975%\n"
     ]
    }
   ],
   "source": [
    "# on validation set\n",
    "correct_predictions = 0\n",
    "total_predictions = 0\n",
    "with torch.no_grad():\n",
    "    for data in val_loader:\n",
    "        inputs, labels = data[0].to(device), data[1].to(device)\n",
    "        outputs = model(inputs)\n",
    "        _, predicted = torch.max(outputs.data, 1)\n",
    "        total_predictions += labels.size(0)\n",
    "        correct_predictions += (predicted == labels).sum().item()\n",
    "\n",
    "print('Accuracy of the network on the {} validation samples: {}%'.format(\n",
    "    total_predictions, 100 * correct_predictions / total_predictions))"
   ]
  },
  {
   "cell_type": "code",
   "execution_count": 16,
   "metadata": {},
   "outputs": [
    {
     "name": "stdout",
     "output_type": "stream",
     "text": [
      "Accuracy of the network on the 999 test samples: 21.32132132132132%\n"
     ]
    }
   ],
   "source": [
    "# on test set\n",
    "correct_predictions = 0\n",
    "total_predictions = 0\n",
    "with torch.no_grad():\n",
    "    for data in test_loader:\n",
    "        inputs, labels = data[0].to(device), data[1].to(device)\n",
    "        outputs = model(inputs)\n",
    "        _, predicted = torch.max(outputs.data, 1)\n",
    "        total_predictions += labels.size(0)\n",
    "        correct_predictions += (predicted == labels).sum().item()\n",
    "\n",
    "print('Accuracy of the network on the {} test samples: {}%'.format(\n",
    "    total_predictions, 100 * correct_predictions / total_predictions))"
   ]
  },
  {
   "cell_type": "code",
   "execution_count": 18,
   "metadata": {},
   "outputs": [],
   "source": [
    "# save the model\n",
    "torch.save(model, os.path.join(MODEL_DIR, 'cnn-{}.h5'.format(date_time)))"
   ]
  },
  {
   "attachments": {},
   "cell_type": "markdown",
   "metadata": {},
   "source": [
    "### 6. Test single inference"
   ]
  },
  {
   "cell_type": "code",
   "execution_count": 16,
   "metadata": {},
   "outputs": [
    {
     "name": "stdout",
     "output_type": "stream",
     "text": [
      "{'Blues': 0.7841, 'Classical': -0.6878, 'Country': -0.9313, 'Disco': -1.9478, 'Electronic': 3.3723, 'Hip-Hop': 6.4339, 'Jazz': 1.4514, 'Metal': -2.4342, 'Pop': 5.0932, 'Reggae': 4.0144, 'Rock': -1.2118}\n",
      "[0.7841392159461975, -0.6877682209014893, -0.9312679171562195, -1.9478323459625244, 3.3722758293151855, 6.433861255645752, 1.4514498710632324, -2.4342281818389893, 5.093160629272461, 4.014369487762451, -1.2118483781814575]\n",
      "Predicted: Hip-Hop\n"
     ]
    }
   ],
   "source": [
    "# load the model\n",
    "loaded_model = torch.load(os.path.join(MODEL_DIR, 'cnn-2305031712.h5'))\n",
    "loaded_model.eval()\n",
    "loaded_model = loaded_model.to(device)\n",
    "\n",
    "# load 'blues.00001.wav' and predict its genre\n",
    "audio = AudioUtil.open('000002.mp3')\n",
    "audio = AudioUtil.rechannel(audio, N_CHANNELS)\n",
    "audio = AudioUtil.resample(audio, SAMPLE_RATE)\n",
    "audio = AudioUtil.pad_truncate(audio, AUDIO_DURATION)\n",
    "mel_spectrogram = AudioUtil.mel_spectrogram(audio)\n",
    "\n",
    "# inference\n",
    "inputs = mel_spectrogram.unsqueeze(0)\n",
    "inputs = inputs.to(device)\n",
    "outputs = loaded_model(inputs)\n",
    "_, predicted = torch.max(outputs.data, 1)\n",
    "\n",
    "outputs_list = outputs.data.tolist()[0]\n",
    "# create a dict of genre: probability\n",
    "probs = {id_to_label[i]: round(outputs_list[i], 4) for i in range(len(id_to_label))}\n",
    "print(probs)\n",
    "print(outputs_list)\n",
    "print('Predicted: {}'.format(id_to_label[predicted.item()]))"
   ]
  },
  {
   "cell_type": "code",
   "execution_count": 6,
   "metadata": {},
   "outputs": [],
   "source": [
    "# save dictionary mapping id to label as json file\n",
    "with open(os.path.join(MODEL_DIR, 'id_to_label.json'), 'w') as fp:\n",
    "    json.dump(id_to_label, fp)"
   ]
  }
 ],
 "metadata": {
  "kernelspec": {
   "display_name": "Python 3",
   "language": "python",
   "name": "python3"
  },
  "language_info": {
   "codemirror_mode": {
    "name": "ipython",
    "version": 3
   },
   "file_extension": ".py",
   "mimetype": "text/x-python",
   "name": "python",
   "nbconvert_exporter": "python",
   "pygments_lexer": "ipython3",
   "version": "3.10.10"
  }
 },
 "nbformat": 4,
 "nbformat_minor": 0
}
