{
 "cells": [
  {
   "attachments": {},
   "cell_type": "markdown",
   "metadata": {
    "collapsed": false
   },
   "source": [
    "## Music Style Detector : CNN with Mel Spectogram\n",
    "\n",
    "This notebook contains experimentation to create a music style detector by building a CNN model with Mel spectogram as input. The model is trained on a custom part of the FMA dataset and evaluated on the GTZAN dataset.\n",
    "\n",
    "### 1. Imports and setup"
   ]
  },
  {
   "cell_type": "code",
   "execution_count": 1,
   "metadata": {},
   "outputs": [],
   "source": [
    "import torch\n",
    "import torch.nn as nn\n",
    "from torch.nn import init\n",
    "import torch.nn.functional as F\n",
    "import torchaudio\n",
    "from torch.utils.data import DataLoader, Dataset, random_split\n",
    "import pytorch_lightning as pl\n",
    "\n",
    "from sklearn.model_selection import train_test_split\n",
    "from datetime import datetime\n",
    "import wandb\n",
    "import matplotlib.pyplot as plt\n",
    "import IPython.display as ipd\n",
    "import numpy as np\n",
    "import pandas as pd\n",
    "import random\n",
    "import os\n",
    "import json\n",
    "\n",
    "MODEL_DIR = os.path.abspath(os.path.join(os.getcwd(), '../..', 'models', 'genre_detector'))\n",
    "DATA_DIR = os.path.join(MODEL_DIR, 'data')"
   ]
  },
  {
   "attachments": {},
   "cell_type": "markdown",
   "metadata": {},
   "source": [
    "### 2. Data pre-processing"
   ]
  },
  {
   "cell_type": "code",
   "execution_count": 2,
   "metadata": {},
   "outputs": [],
   "source": [
    "class AudioUtil():\n",
    "    \"\"\"\n",
    "    Utility class for audio processing.\n",
    "    \"\"\"\n",
    "    @staticmethod\n",
    "    def open(audio_file: str):\n",
    "        \"\"\"\n",
    "        Load an audio file. Return the signal as a tensor and the sample rate.\n",
    "        :param audio_file : Path to the audio file.\n",
    "        :type audio_file : str\n",
    "        :return: signal as a tensor and the sample rate\n",
    "        :rtype: Tuple[torch.Tensor, int]\n",
    "        \"\"\"\n",
    "        signal, sample_rate = torchaudio.load(audio_file)\n",
    "        return (signal, sample_rate)\n",
    "    \n",
    "    @staticmethod\n",
    "    def rechannel(audio, new_channel):\n",
    "        \"\"\"\n",
    "        Convert a given audio to the specified number of channels.\n",
    "        :param audio: the audio, composed of the signal and the sample rate\n",
    "        :type audio: Tuple[torch.Tensor, int]\n",
    "        :param new_channel: the target number of channels\n",
    "        :type new_channel: int\n",
    "        :return: the audio with the target number of channels\n",
    "        :rtype: Tuple[torch.Tensor, int]\n",
    "        \"\"\"\n",
    "        signal, sample_rate = audio\n",
    "\n",
    "        if (signal.shape[0] == new_channel):\n",
    "            # nothing to do as the signal already has the target number of channels\n",
    "            return audio\n",
    "        if (new_channel == 1):\n",
    "            # convert to mono by selecting only the first channel\n",
    "            signal = signal[:1, :]\n",
    "        else:\n",
    "            # convert to stereo by duplicating the first channel\n",
    "            signal = torch.cat([signal, signal])\n",
    "        return (signal, sample_rate)\n",
    "    \n",
    "    @staticmethod\n",
    "    def resample(audio, new_sample_rate):\n",
    "        \"\"\"\n",
    "        Change the sample rate of the audio signal.\n",
    "        :param audio: the audio, composed of the signal and the sample rate\n",
    "        :type audio: Tuple[torch.Tensor, int]\n",
    "        :param new_sample_rate: the target sample rate\n",
    "        :type new_sample_rate: int\n",
    "        :return: the audio with the target sample rate\n",
    "        :rtype: Tuple[torch.Tensor, int]\n",
    "        \"\"\"\n",
    "        signal, sample_rate = audio\n",
    "        if (sample_rate == new_sample_rate):\n",
    "            # nothing to do\n",
    "            return audio\n",
    "        resample = torchaudio.transforms.Resample(sample_rate, new_sample_rate)\n",
    "        signal = resample(signal)\n",
    "        return (signal, new_sample_rate)\n",
    "    \n",
    "    @staticmethod\n",
    "    def pad_truncate(audio, length):\n",
    "        \"\"\"\n",
    "        Pad or truncate an audio signal to a fixed length (in ms).\n",
    "        :param audio: the audio, composed of the signal and the sample rate\n",
    "        :type audio: Tuple[torch.Tensor, int]\n",
    "        :param length: the target length in ms\n",
    "        :type length: int\n",
    "        :return: the audio with the target length\n",
    "        :rtype: Tuple[torch.Tensor, int]\n",
    "        \"\"\"\n",
    "        signal, sample_rate = audio\n",
    "        max_length = sample_rate//1000 * length\n",
    "\n",
    "        if (signal.shape[1] > max_length):\n",
    "            signal = signal[:, :max_length]\n",
    "        elif (signal.shape[1] < max_length):\n",
    "            padding = max_length - signal.shape[1]\n",
    "            signal = F.pad(signal, (0, padding))\n",
    "        return (signal, sample_rate)\n",
    "    \n",
    "    @staticmethod\n",
    "    def mel_spectrogram(audio, n_mels=64, n_fft=1024, hop_length=None):\n",
    "        \"\"\"\n",
    "        Create the mel spectogram for the given audio signal.\n",
    "        :param audio: the audio, composed of the signal and the sample rate\n",
    "        :type audio: Tuple[torch.Tensor, int]\n",
    "        :param n_mels: the number of mel filterbanks\n",
    "        :type n_mels: int\n",
    "        :param n_fft: the size of the FFT\n",
    "        :type n_fft: int\n",
    "        :param hop_length: the length of hop between STFT windows\n",
    "        :type hop_length: int\n",
    "        :return: the mel spectogram\n",
    "        :rtype: torch.Tensor\n",
    "        \"\"\"\n",
    "        signal, sample_rate = audio\n",
    "        \n",
    "        mel_spectrogram = torchaudio.transforms.MelSpectrogram(\n",
    "            sample_rate,\n",
    "            n_fft=n_fft,\n",
    "            hop_length=hop_length,\n",
    "            n_mels=n_mels\n",
    "        )(signal)\n",
    "\n",
    "        # convert to decibels\n",
    "        mel_spectrogram = torchaudio.transforms.AmplitudeToDB()(mel_spectrogram)\n",
    "\n",
    "        return mel_spectrogram"
   ]
  },
  {
   "attachments": {},
   "cell_type": "markdown",
   "metadata": {},
   "source": [
    "### 3. Training data loading"
   ]
  },
  {
   "cell_type": "code",
   "execution_count": 3,
   "metadata": {},
   "outputs": [
    {
     "data": {
      "text/html": [
       "<div>\n",
       "<style scoped>\n",
       "    .dataframe tbody tr th:only-of-type {\n",
       "        vertical-align: middle;\n",
       "    }\n",
       "\n",
       "    .dataframe tbody tr th {\n",
       "        vertical-align: top;\n",
       "    }\n",
       "\n",
       "    .dataframe thead th {\n",
       "        text-align: right;\n",
       "    }\n",
       "</style>\n",
       "<table border=\"1\" class=\"dataframe\">\n",
       "  <thead>\n",
       "    <tr style=\"text-align: right;\">\n",
       "      <th></th>\n",
       "      <th>filename</th>\n",
       "      <th>genre_label</th>\n",
       "      <th>genre_id</th>\n",
       "    </tr>\n",
       "  </thead>\n",
       "  <tbody>\n",
       "    <tr>\n",
       "      <th>0</th>\n",
       "      <td>082066.mp3</td>\n",
       "      <td>Classical</td>\n",
       "      <td>1</td>\n",
       "    </tr>\n",
       "    <tr>\n",
       "      <th>1</th>\n",
       "      <td>065795.mp3</td>\n",
       "      <td>Classical</td>\n",
       "      <td>1</td>\n",
       "    </tr>\n",
       "    <tr>\n",
       "      <th>2</th>\n",
       "      <td>011721.mp3</td>\n",
       "      <td>Classical</td>\n",
       "      <td>1</td>\n",
       "    </tr>\n",
       "    <tr>\n",
       "      <th>3</th>\n",
       "      <td>145568.mp3</td>\n",
       "      <td>Classical</td>\n",
       "      <td>1</td>\n",
       "    </tr>\n",
       "    <tr>\n",
       "      <th>4</th>\n",
       "      <td>070936.mp3</td>\n",
       "      <td>Classical</td>\n",
       "      <td>1</td>\n",
       "    </tr>\n",
       "  </tbody>\n",
       "</table>\n",
       "</div>"
      ],
      "text/plain": [
       "     filename genre_label  genre_id\n",
       "0  082066.mp3   Classical         1\n",
       "1  065795.mp3   Classical         1\n",
       "2  011721.mp3   Classical         1\n",
       "3  145568.mp3   Classical         1\n",
       "4  070936.mp3   Classical         1"
      ]
     },
     "execution_count": 3,
     "metadata": {},
     "output_type": "execute_result"
    }
   ],
   "source": [
    "FMA_DIR = os.path.join(DATA_DIR, 'FMA')\n",
    "GTZAN_DIR = os.path.join(DATA_DIR, 'GTZAN')\n",
    "fma_df = pd.read_csv(os.path.join(FMA_DIR, 'fma_reduced_genres.csv'))\n",
    "gtzan_df = pd.read_csv(os.path.join(GTZAN_DIR, 'gtzan_genres.csv'))\n",
    "fma_df.head()"
   ]
  },
  {
   "cell_type": "code",
   "execution_count": 4,
   "metadata": {},
   "outputs": [
    {
     "name": "stdout",
     "output_type": "stream",
     "text": [
      "{1: 'Classical', 4: 'Electronic', 5: 'Hip-Hop', 8: 'Pop', 10: 'Rock', 6: 'Jazz', 9: 'Reggae', 3: 'Disco', 0: 'Blues', 2: 'Country', 7: 'Metal'}\n"
     ]
    }
   ],
   "source": [
    "# create a map of the genre_id to genre_label\n",
    "id_to_label = fma_df.set_index('genre_id')['genre_label'].to_dict()\n",
    "print(id_to_label)"
   ]
  },
  {
   "cell_type": "code",
   "execution_count": 5,
   "metadata": {},
   "outputs": [
    {
     "name": "stdout",
     "output_type": "stream",
     "text": [
      "11\n"
     ]
    }
   ],
   "source": [
    "AUDIO_DURATION = 30000 # equals 30 seconds\n",
    "SAMPLE_RATE = 44100\n",
    "N_CHANNELS = 2\n",
    "BATCH_SIZE = 32\n",
    "NB_CLASSES = fma_df['genre_id'].nunique()\n",
    "print(NB_CLASSES)"
   ]
  },
  {
   "cell_type": "code",
   "execution_count": 6,
   "metadata": {},
   "outputs": [],
   "source": [
    "class GenreDataset(Dataset):\n",
    "    \"\"\"\n",
    "    Dataset for the FMA dataset.\n",
    "    \"\"\"\n",
    "    def __init__(self, df, audio_dir):\n",
    "        \"\"\"\n",
    "        Constructor.\n",
    "        :param df: the dataframe containing the audio files ids and their genre label\n",
    "        :type df: pandas.DataFrame\n",
    "        :param audio_dir: the directory containing the audio files\n",
    "        :type audio_dir: str\n",
    "        \"\"\"\n",
    "        self.fma_df = df\n",
    "        self.audio_dir = audio_dir\n",
    "        \n",
    "    def __len__(self):\n",
    "        \"\"\"\n",
    "        Get the length of the dataset.\n",
    "        :return: the length of the dataset\n",
    "        :rtype: int\n",
    "        \"\"\"\n",
    "        return len(self.fma_df)\n",
    "    \n",
    "    def __getitem__(self, idx):\n",
    "        \"\"\"\n",
    "        Get the idx-th sample of the dataset.\n",
    "        :param idx: the index of the sample\n",
    "        :type idx: int\n",
    "        :return: the idx-th sample of the dataset and its genre label\n",
    "        :rtype: Tuple[torch.Tensor, int]\n",
    "        \"\"\" \n",
    "        audio_file_path = os.path.join(self.audio_dir, str(self.fma_df.iloc[idx]['filename']))\n",
    "        # get the genre class id\n",
    "        genre_id = self.fma_df.iloc[idx]['genre_id']\n",
    "\n",
    "        # load the audio file and apply the preprocessing\n",
    "        audio = AudioUtil.open(audio_file_path)\n",
    "        audio = AudioUtil.rechannel(audio, N_CHANNELS)\n",
    "        audio = AudioUtil.resample(audio, SAMPLE_RATE)\n",
    "        audio = AudioUtil.pad_truncate(audio, AUDIO_DURATION)\n",
    "        mel_spectrogram = AudioUtil.mel_spectrogram(audio)\n",
    "\n",
    "        return (mel_spectrogram, genre_id)"
   ]
  },
  {
   "cell_type": "code",
   "execution_count": 7,
   "metadata": {},
   "outputs": [
    {
     "name": "stdout",
     "output_type": "stream",
     "text": [
      "64 2579\n"
     ]
    },
    {
     "data": {
      "image/png": "[encoded data removed]",
      "text/plain": [
       "<Figure size 1000x400 with 2 Axes>"
      ]
     },
     "metadata": {},
     "output_type": "display_data"
    },
    {
     "name": "stdout",
     "output_type": "stream",
     "text": [
      "Inputs shape: torch.Size([2, 64, 2579])\n"
     ]
    }
   ],
   "source": [
    "full_dataset = GenreDataset(fma_df, os.path.join(FMA_DIR, 'fma_reduced'))\n",
    "\n",
    "# random split\n",
    "nb_samples = len(full_dataset)\n",
    "nb_train_samples = int(nb_samples * 0.8)\n",
    "nb_val_samples = nb_samples - nb_train_samples\n",
    "train_dataset, val_dataset = random_split(full_dataset, [nb_train_samples, nb_val_samples])\n",
    "\n",
    "# create the data loaders\n",
    "train_loader = DataLoader(train_dataset, batch_size=BATCH_SIZE, shuffle=True, pin_memory=True)\n",
    "val_loader = DataLoader(val_dataset, batch_size=BATCH_SIZE, shuffle=False, pin_memory=True)\n",
    "\n",
    "# get first batch\n",
    "batch = next(iter(train_loader))\n",
    "\n",
    "mel_spectrogram = batch[0][0]\n",
    "# print shape of the mel spectrogram\n",
    "INPUT_HEIGHT = mel_spectrogram.shape[1]\n",
    "INPUT_WIDTH = mel_spectrogram.shape[2]\n",
    "print(INPUT_HEIGHT, INPUT_WIDTH)\n",
    "# plot the spectrograms according to nb of channels\n",
    "fig, axs = plt.subplots(N_CHANNELS, 1, figsize=(10, 4))\n",
    "for c in range(N_CHANNELS):\n",
    "    axs[c].imshow(mel_spectrogram[c,:,:].numpy(), cmap='hot')\n",
    "    axs[c].set_title('Channel {}'.format(c+1))\n",
    "    axs[c].set_xlabel('Time')\n",
    "    axs[c].set_ylabel('Mel filterbank')\n",
    "fig.suptitle('Mel spectrogram for the 2 channels')\n",
    "plt.show()\n",
    "\n",
    "print(\"Inputs shape: {}\".format(mel_spectrogram.shape))"
   ]
  },
  {
   "cell_type": "code",
   "execution_count": 8,
   "metadata": {},
   "outputs": [
    {
     "data": {
      "image/png": "[encoded data removed]",
      "text/plain": [
       "<Figure size 1000x400 with 1 Axes>"
      ]
     },
     "metadata": {},
     "output_type": "display_data"
    }
   ],
   "source": [
    "gtzan_dataset = GenreDataset(gtzan_df, os.path.join(GTZAN_DIR, 'genres_original_all'))\n",
    "\n",
    "test_loader = DataLoader(gtzan_dataset, batch_size=BATCH_SIZE, shuffle=False)\n",
    "\n",
    "# get first batch\n",
    "batch = next(iter(test_loader))\n",
    "\n",
    "mel_spectrogram = batch[0][0]\n",
    "plt.figure(figsize=(10, 4))\n",
    "plt.imshow(mel_spectrogram[0].numpy(), cmap='hot', interpolation='nearest')\n",
    "plt.show()"
   ]
  },
  {
   "attachments": {},
   "cell_type": "markdown",
   "metadata": {},
   "source": [
    "### 4. Model creation"
   ]
  },
  {
   "cell_type": "code",
   "execution_count": 9,
   "metadata": {},
   "outputs": [],
   "source": [
    "class AudioCNN(pl.LightningModule):\n",
    "    \"\"\"\n",
    "    Audio classification model.\n",
    "    \"\"\"\n",
    "    def __init__(self, nb_classes):\n",
    "        \"\"\"\n",
    "        Constructor.\n",
    "        :param nb_classes: the number of classes\n",
    "        :type nb_classes: int\n",
    "        \"\"\"\n",
    "        super(AudioCNN, self).__init__()\n",
    "        self.conv1 = nn.Conv2d(2, 32, kernel_size=(3, 3), stride=(1, 1))\n",
    "        self.convnorm1 = nn.BatchNorm2d(32)\n",
    "        self.pool1 = nn.MaxPool2d(kernel_size=(2, 4))\n",
    "        self.conv2 = nn.Conv2d(32, 64, kernel_size=(3, 3), stride=(1, 1))\n",
    "        self.convnorm2 = nn.BatchNorm2d(64)\n",
    "        self.pool2 = nn.MaxPool2d(kernel_size=(2, 4))\n",
    "        self.linear1 = nn.Linear(64*16*16, 256)\n",
    "        self.linear1_bn = nn.BatchNorm1d(256)\n",
    "        self.drop = nn.Dropout(0.4)\n",
    "        self.linear2 = nn.Linear(256, nb_classes)\n",
    "        self.act = nn.LeakyReLU()\n",
    "\n",
    "    def forward(self, x):\n",
    "        \"\"\"\n",
    "        Forward pass.\n",
    "        :param x: the input\n",
    "        :type x: torch.Tensor\n",
    "        :return: the output\n",
    "        :rtype: torch.Tensor\n",
    "        \"\"\"\n",
    "        # Conv 1\n",
    "        x = self.conv1(x)\n",
    "        x = self.convnorm1(x)\n",
    "        x = self.act(x)\n",
    "        x = self.pool1(x)\n",
    "        # Conv 2\n",
    "        x = self.conv2(x)\n",
    "        x = self.convnorm2(x)\n",
    "        x = self.act(x)\n",
    "        x = self.pool2(x)\n",
    "        # Linear 1\n",
    "        x = x.view(x.size(0), -1)\n",
    "        x = self.linear1(x)\n",
    "        x = self.linear1_bn(x)\n",
    "        x = self.act(x)\n",
    "        x = self.drop(x)\n",
    "        # Linear 2\n",
    "        x = self.linear2(x)\n",
    "        return x\n",
    "    \n",
    "    def training_step(self, batch, batch_idx):\n",
    "        \"\"\"\n",
    "        Training step.\n",
    "        :param batch: the batch\n",
    "        :type batch: Tuple[torch.Tensor, torch.Tensor]\n",
    "        :param batch_idx: the batch index\n",
    "        :type batch_idx: int\n",
    "        :return: the loss\n",
    "        :rtype: torch.Tensor\n",
    "        \"\"\"\n",
    "        x, y = batch\n",
    "        y_hat = self.forward(x)\n",
    "        loss = F.cross_entropy(y_hat, y)\n",
    "        self.log('train_loss', loss)\n",
    "        return loss\n",
    "    \n",
    "    def validation_step(self, batch, batch_idx):\n",
    "        \"\"\"\n",
    "        Validation step.\n",
    "        :param batch: the batch\n",
    "        :type batch: Tuple[torch.Tensor, torch.Tensor]\n",
    "        :param batch_idx: the batch index\n",
    "        :type batch_idx: int\n",
    "        :return: the loss\n",
    "        :rtype: torch.Tensor\n",
    "        \"\"\"\n",
    "        x, y = batch\n",
    "        y_hat = self.forward(x)\n",
    "        loss = F.cross_entropy(y_hat, y)\n",
    "        self.log('val_loss', loss)\n",
    "        return loss\n",
    "    \n",
    "    def configure_optimizers(self):\n",
    "        \"\"\"\n",
    "        Configure optimizers.\n",
    "        :return: the optimizer\n",
    "        :rtype: torch.optim.Optimizer\n",
    "        \"\"\"\n",
    "        optimizer = torch.optim.Adam(self.parameters(), lr=1e-3)\n",
    "        return optimizer\n",
    "    \n",
    "    def predict(self, x):\n",
    "        \"\"\"\n",
    "        Predict.\n",
    "        :param x: the input\n",
    "        :type x: torch.Tensor\n",
    "        :return: the prediction\n",
    "        :rtype: torch.Tensor\n",
    "        \"\"\"\n",
    "        y_hat = self.forward(x)\n",
    "        return y_hat"
   ]
  },
  {
   "cell_type": "code",
   "execution_count": 11,
   "metadata": {},
   "outputs": [
    {
     "data": {
      "text/plain": [
       "device(type='cuda', index=0)"
      ]
     },
     "execution_count": 11,
     "metadata": {},
     "output_type": "execute_result"
    }
   ],
   "source": [
    "# Create the model and put it on the GPU if available\n",
    "model = AudioCNN(NB_CLASSES)\n",
    "device = torch.device(\"cuda\" if torch.cuda.is_available() else \"cpu\")\n",
    "model = model.to(device)\n",
    "# Check that it is on Cuda\n",
    "next(model.parameters()).device"
   ]
  },
  {
   "attachments": {},
   "cell_type": "markdown",
   "metadata": {},
   "source": [
    "### 5. Model training"
   ]
  },
  {
   "cell_type": "code",
   "execution_count": 11,
   "metadata": {},
   "outputs": [],
   "source": [
    "def validate(model, val_loader, criterion):\n",
    "    model.eval()\n",
    "\n",
    "    with torch.no_grad():\n",
    "        val_loss = 0.0\n",
    "        correct, total = 0, 0\n",
    "        y_true, y_pred = [], []\n",
    "        for batch_idx, (inputs, labels) in enumerate(val_loader):\n",
    "            inputs, labels = inputs.to(device), labels.to(device)\n",
    "\n",
    "            outputs = model(inputs)\n",
    "            loss = criterion(outputs, labels)\n",
    "            val_loss += loss.item()\n",
    "\n",
    "            _, predicted = torch.max(outputs.data, 1)\n",
    "            total += labels.size(0)\n",
    "            correct += (predicted == labels).sum().item()\n",
    "\n",
    "            y_true.extend(labels.cpu().numpy())\n",
    "            y_pred.extend(predicted.cpu().numpy())\n",
    "\n",
    "        return val_loss / len(val_loader), correct / total, y_true, y_pred"
   ]
  },
  {
   "cell_type": "code",
   "execution_count": 12,
   "metadata": {},
   "outputs": [
    {
     "name": "stderr",
     "output_type": "stream",
     "text": [
      "Failed to detect the name of this notebook, you can set it manually with the WANDB_NOTEBOOK_NAME environment variable to enable code saving.\n",
      "\u001b[34m\u001b[1mwandb\u001b[0m: Currently logged in as: \u001b[33mbenjamin-pasquier\u001b[0m. Use \u001b[1m`wandb login --relogin`\u001b[0m to force relogin\n"
     ]
    },
    {
     "data": {
      "text/html": [
       "wandb version 0.15.1 is available!  To upgrade, please run:\n",
       " $ pip install wandb --upgrade"
      ],
      "text/plain": [
       "<IPython.core.display.HTML object>"
      ]
     },
     "metadata": {},
     "output_type": "display_data"
    },
    {
     "data": {
      "text/html": [
       "Tracking run with wandb version 0.15.0"
      ],
      "text/plain": [
       "<IPython.core.display.HTML object>"
      ]
     },
     "metadata": {},
     "output_type": "display_data"
    },
    {
     "data": {
      "text/html": [
       "Run data is saved locally in <code>c:\\Users\\benja\\Projects\\MLodImage\\code\\notebooks\\style_detector\\wandb\\run-20230503_185046-kayad0oi</code>"
      ],
      "text/plain": [
       "<IPython.core.display.HTML object>"
      ]
     },
     "metadata": {},
     "output_type": "display_data"
    },
    {
     "data": {
      "text/html": [
       "Syncing run <strong><a href='https://wandb.ai/benjamin-pasquier/audio-classification/runs/kayad0oi' target=\"_blank\">cnn-2305031850</a></strong> to <a href='https://wandb.ai/benjamin-pasquier/audio-classification' target=\"_blank\">Weights & Biases</a> (<a href='https://wandb.me/run' target=\"_blank\">docs</a>)<br/>"
      ],
      "text/plain": [
       "<IPython.core.display.HTML object>"
      ]
     },
     "metadata": {},
     "output_type": "display_data"
    },
    {
     "data": {
      "text/html": [
       " View project at <a href='https://wandb.ai/benjamin-pasquier/audio-classification' target=\"_blank\">https://wandb.ai/benjamin-pasquier/audio-classification</a>"
      ],
      "text/plain": [
       "<IPython.core.display.HTML object>"
      ]
     },
     "metadata": {},
     "output_type": "display_data"
    },
    {
     "data": {
      "text/html": [
       " View run at <a href='https://wandb.ai/benjamin-pasquier/audio-classification/runs/kayad0oi' target=\"_blank\">https://wandb.ai/benjamin-pasquier/audio-classification/runs/kayad0oi</a>"
      ],
      "text/plain": [
       "<IPython.core.display.HTML object>"
      ]
     },
     "metadata": {},
     "output_type": "display_data"
    }
   ],
   "source": [
    "date_time = datetime.now().strftime(\"%y%m%d%H%M\")\n",
    "wandb.init(project=\"audio-classification\", name=\"cnn-{}\".format(date_time), notes=\"baseline model\", config={\n",
    "    \"learning_rate\": 0.001,\n",
    "    \"epochs\": 30,\n",
    "    \"batch_size\": BATCH_SIZE,\n",
    "    \"loss_function\": \"cross-entropy\",\n",
    "    \"architecture\": \"CNN\",\n",
    "    \"dataset\": \"FMA\",\n",
    "    \"optimizer\": \"Adam\"\n",
    "    })\n",
    "\n",
    "config = wandb.config\n"
   ]
  },
  {
   "cell_type": "code",
   "execution_count": 13,
   "metadata": {},
   "outputs": [],
   "source": [
    "criterion = nn.CrossEntropyLoss()\n",
    "optimizer = torch.optim.Adam(model.parameters(), lr=config.learning_rate)"
   ]
  },
  {
   "cell_type": "code",
   "execution_count": 14,
   "metadata": {},
   "outputs": [
    {
     "name": "stdout",
     "output_type": "stream",
     "text": [
      "Finished Training\n"
     ]
    },
    {
     "data": {
      "text/html": [
       "Waiting for W&B process to finish... <strong style=\"color:green\">(success).</strong>"
      ],
      "text/plain": [
       "<IPython.core.display.HTML object>"
      ]
     },
     "metadata": {},
     "output_type": "display_data"
    },
    {
     "data": {
      "application/vnd.jupyter.widget-view+json": {
       "model_id": "1b0ea5dd3c924dce9b05d580b9621f02",
       "version_major": 2,
       "version_minor": 0
      },
      "text/plain": [
       "VBox(children=(Label(value='0.005 MB of 0.008 MB uploaded (0.000 MB deduped)\\r'), FloatProgress(value=0.605828…"
      ]
     },
     "metadata": {},
     "output_type": "display_data"
    },
    {
     "data": {
      "text/html": [
       "<style>\n",
       "    table.wandb td:nth-child(1) { padding: 0 10px; text-align: left ; width: auto;} td:nth-child(2) {text-align: left ; width: 100%}\n",
       "    .wandb-row { display: flex; flex-direction: row; flex-wrap: wrap; justify-content: flex-start; width: 100% }\n",
       "    .wandb-col { display: flex; flex-direction: column; flex-basis: 100%; flex: 1; padding: 10px; }\n",
       "    </style>\n",
       "<div class=\"wandb-row\"><div class=\"wandb-col\"><h3>Run history:</h3><br/><table class=\"wandb\"><tr><td>epoch</td><td>▁▁▁▂▂▂▂▃▃▃▃▄▄▄▄▅▅▅▅▆▆▆▆▇▇▇▇███</td></tr><tr><td>train_accuracy</td><td>▁▂▃▅▇█████████████████████████</td></tr><tr><td>train_loss</td><td>█▃▃▂▂▁▁▁▁▁▁▁▁▁▁▁▁▁▁▁▁▁▁▁▁▁▁▁▁▁</td></tr><tr><td>val_accuracy</td><td>▆▆█▆▅▃▃▄▁▂▂▃▄▃▅▅▅▅▅▅▅▅▅▅▅▅▄▅▅▅</td></tr><tr><td>val_loss</td><td>▁▁▁▂▃▄▅▅▆▅▆▆▇▇▆▆▇▇▇▇▇▇▇▇▇▇▇███</td></tr></table><br/></div><div class=\"wandb-col\"><h3>Run summary:</h3><br/><table class=\"wandb\"><tr><td>epoch</td><td>29</td></tr><tr><td>train_accuracy</td><td>0.99886</td></tr><tr><td>train_loss</td><td>0.00106</td></tr><tr><td>val_accuracy</td><td>0.39756</td></tr><tr><td>val_loss</td><td>5.98646</td></tr></table><br/></div></div>"
      ],
      "text/plain": [
       "<IPython.core.display.HTML object>"
      ]
     },
     "metadata": {},
     "output_type": "display_data"
    },
    {
     "data": {
      "text/html": [
       " View run <strong style=\"color:#cdcd00\">cnn-2305031850</strong> at: <a href='https://wandb.ai/benjamin-pasquier/audio-classification/runs/kayad0oi' target=\"_blank\">https://wandb.ai/benjamin-pasquier/audio-classification/runs/kayad0oi</a><br/>Synced 6 W&B file(s), 1 media file(s), 1 artifact file(s) and 0 other file(s)"
      ],
      "text/plain": [
       "<IPython.core.display.HTML object>"
      ]
     },
     "metadata": {},
     "output_type": "display_data"
    },
    {
     "data": {
      "text/html": [
       "Find logs at: <code>.\\wandb\\run-20230503_185046-kayad0oi\\logs</code>"
      ],
      "text/plain": [
       "<IPython.core.display.HTML object>"
      ]
     },
     "metadata": {},
     "output_type": "display_data"
    }
   ],
   "source": [
    "for epoch in range(config.epochs):\n",
    "    model.train() # put model to training mode\n",
    "    correct, total = 0, 0\n",
    "    training_loss = 0.0\n",
    "    for i, data in enumerate(train_loader):\n",
    "        inputs, labels = data[0].to(device), data[1].to(device)\n",
    "        \n",
    "        outputs = model(inputs)\n",
    "        train_loss = criterion(outputs, labels)\n",
    "        optimizer.zero_grad()\n",
    "        train_loss.backward()\n",
    "        optimizer.step()\n",
    "\n",
    "        training_loss += train_loss.item()\n",
    "        \n",
    "        _, predicted = torch.max(outputs.data, 1)\n",
    "        total += labels.size(0) # nb of samples in batch\n",
    "        correct += (predicted == labels).sum().item()\n",
    "\n",
    "    val_loss, val_accuracy, y_true, y_pred = validate(model, val_loader, criterion)\n",
    "\n",
    "    metrics = {'epoch': epoch, 'train_loss': training_loss / len(train_loader),\n",
    "                   'train_accuracy': correct / total, 'val_loss': val_loss,\n",
    "                   'val_accuracy': val_accuracy}\n",
    "    \n",
    "    wandb.log(metrics)\n",
    "    \n",
    "    if epoch + 1 == config.epochs:\n",
    "        wandb.log({'confusion_matrix': wandb.plot.confusion_matrix(probs=None, y_true=y_true,\n",
    "                                                                    preds=y_pred,\n",
    "                                                                    class_names=list(id_to_label.values()))})\n",
    "        wandb.save('cnn-{}.h5'.format(date_time))\n",
    "        \n",
    "print('Finished Training')\n",
    "wandb.finish()\n"
   ]
  },
  {
   "attachments": {},
   "cell_type": "markdown",
   "metadata": {},
   "source": [
    "### 5. Model evaluation"
   ]
  },
  {
   "cell_type": "code",
   "execution_count": 15,
   "metadata": {},
   "outputs": [
    {
     "name": "stdout",
     "output_type": "stream",
     "text": [
      "Accuracy of the network on the 1313 validation samples: 39.75628332063975%\n"
     ]
    }
   ],
   "source": [
    "# on validation set\n",
    "correct_predictions = 0\n",
    "total_predictions = 0\n",
    "with torch.no_grad():\n",
    "    for data in val_loader:\n",
    "        inputs, labels = data[0].to(device), data[1].to(device)\n",
    "        outputs = model(inputs)\n",
    "        _, predicted = torch.max(outputs.data, 1)\n",
    "        total_predictions += labels.size(0)\n",
    "        correct_predictions += (predicted == labels).sum().item()\n",
    "\n",
    "print('Accuracy of the network on the {} validation samples: {}%'.format(\n",
    "    total_predictions, 100 * correct_predictions / total_predictions))"
   ]
  },
  {
   "cell_type": "code",
   "execution_count": 16,
   "metadata": {},
   "outputs": [
    {
     "name": "stdout",
     "output_type": "stream",
     "text": [
      "Accuracy of the network on the 999 test samples: 21.32132132132132%\n"
     ]
    }
   ],
   "source": [
    "# on test set\n",
    "correct_predictions = 0\n",
    "total_predictions = 0\n",
    "with torch.no_grad():\n",
    "    for data in test_loader:\n",
    "        inputs, labels = data[0].to(device), data[1].to(device)\n",
    "        outputs = model(inputs)\n",
    "        _, predicted = torch.max(outputs.data, 1)\n",
    "        total_predictions += labels.size(0)\n",
    "        correct_predictions += (predicted == labels).sum().item()\n",
    "\n",
    "print('Accuracy of the network on the {} test samples: {}%'.format(\n",
    "    total_predictions, 100 * correct_predictions / total_predictions))"
   ]
  },
  {
   "cell_type": "code",
   "execution_count": 18,
   "metadata": {},
   "outputs": [],
   "source": [
    "# save the model\n",
    "torch.save(model, os.path.join(MODEL_DIR, 'cnn-{}.h5'.format(date_time)))"
   ]
  },
  {
   "attachments": {},
   "cell_type": "markdown",
   "metadata": {},
   "source": [
    "### 6. Test single inference"
   ]
  },
  {
   "cell_type": "code",
   "execution_count": 16,
   "metadata": {},
   "outputs": [
    {
     "name": "stdout",
     "output_type": "stream",
     "text": [
      "{'Blues': 0.7841, 'Classical': -0.6878, 'Country': -0.9313, 'Disco': -1.9478, 'Electronic': 3.3723, 'Hip-Hop': 6.4339, 'Jazz': 1.4514, 'Metal': -2.4342, 'Pop': 5.0932, 'Reggae': 4.0144, 'Rock': -1.2118}\n",
      "[0.7841392159461975, -0.6877682209014893, -0.9312679171562195, -1.9478323459625244, 3.3722758293151855, 6.433861255645752, 1.4514498710632324, -2.4342281818389893, 5.093160629272461, 4.014369487762451, -1.2118483781814575]\n",
      "Predicted: Hip-Hop\n"
     ]
    }
   ],
   "source": [
    "# load the model\n",
    "loaded_model = torch.load(os.path.join(MODEL_DIR, 'cnn-2305031712.h5'))\n",
    "loaded_model.eval()\n",
    "loaded_model = loaded_model.to(device)\n",
    "\n",
    "# load 'blues.00001.wav' and predict its genre\n",
    "audio = AudioUtil.open('000002.mp3')\n",
    "audio = AudioUtil.rechannel(audio, N_CHANNELS)\n",
    "audio = AudioUtil.resample(audio, SAMPLE_RATE)\n",
    "audio = AudioUtil.pad_truncate(audio, AUDIO_DURATION)\n",
    "mel_spectrogram = AudioUtil.mel_spectrogram(audio)\n",
    "\n",
    "# inference\n",
    "inputs = mel_spectrogram.unsqueeze(0)\n",
    "inputs = inputs.to(device)\n",
    "outputs = loaded_model(inputs)\n",
    "_, predicted = torch.max(outputs.data, 1)\n",
    "\n",
    "outputs_list = outputs.data.tolist()[0]\n",
    "# create a dict of genre: probability\n",
    "probs = {id_to_label[i]: round(outputs_list[i], 4) for i in range(len(id_to_label))}\n",
    "print(probs)\n",
    "print(outputs_list)\n",
    "print('Predicted: {}'.format(id_to_label[predicted.item()]))"
   ]
  },
  {
   "cell_type": "code",
   "execution_count": 6,
   "metadata": {},
   "outputs": [],
   "source": [
    "# save dictionary mapping id to label as json file\n",
    "with open(os.path.join(MODEL_DIR, 'id_to_label.json'), 'w') as fp:\n",
    "    json.dump(id_to_label, fp)"
   ]
  }
 ],
 "metadata": {
  "kernelspec": {
   "display_name": "Python 3",
   "language": "python",
   "name": "python3"
  },
  "language_info": {
   "codemirror_mode": {
    "name": "ipython",
    "version": 3
   },
   "file_extension": ".py",
   "mimetype": "text/x-python",
   "name": "python",
   "nbconvert_exporter": "python",
   "pygments_lexer": "ipython3",
   "version": "3.10.10"
  }
 },
 "nbformat": 4,
 "nbformat_minor": 0
}
