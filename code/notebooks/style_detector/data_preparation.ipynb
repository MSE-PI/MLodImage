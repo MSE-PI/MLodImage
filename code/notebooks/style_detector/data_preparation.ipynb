{
 "cells": [
  {
   "attachments": {},
   "cell_type": "markdown",
   "metadata": {},
   "source": [
    "## Music Style Detector : data preparation\n",
    "\n",
    "This notebook contains steps to prepare data for training and testing the music style detector. We split the data with a traditional 80/20 split. Validation set will be created during training."
   ]
  },
  {
   "cell_type": "code",
   "execution_count": 52,
   "metadata": {},
   "outputs": [],
   "source": [
    "import os\n",
    "import pandas as pd\n",
    "import numpy as np\n",
    "import matplotlib.pyplot as plt"
   ]
  },
  {
   "cell_type": "code",
   "execution_count": 53,
   "metadata": {},
   "outputs": [
    {
     "name": "stdout",
     "output_type": "stream",
     "text": [
      "There are 6560 rows in fma genres dataset\n",
      "There are 999 rows in gtzan genres dataset\n",
      "There are 7559 rows in merged genres dataset\n"
     ]
    },
    {
     "data": {
      "text/html": [
       "<div>\n",
       "<style scoped>\n",
       "    .dataframe tbody tr th:only-of-type {\n",
       "        vertical-align: middle;\n",
       "    }\n",
       "\n",
       "    .dataframe tbody tr th {\n",
       "        vertical-align: top;\n",
       "    }\n",
       "\n",
       "    .dataframe thead th {\n",
       "        text-align: right;\n",
       "    }\n",
       "</style>\n",
       "<table border=\"1\" class=\"dataframe\">\n",
       "  <thead>\n",
       "    <tr style=\"text-align: right;\">\n",
       "      <th></th>\n",
       "      <th>filename</th>\n",
       "      <th>genre_label</th>\n",
       "      <th>genre_id</th>\n",
       "    </tr>\n",
       "  </thead>\n",
       "  <tbody>\n",
       "    <tr>\n",
       "      <th>0</th>\n",
       "      <td>082066.mp3</td>\n",
       "      <td>Classical</td>\n",
       "      <td>1</td>\n",
       "    </tr>\n",
       "    <tr>\n",
       "      <th>1</th>\n",
       "      <td>065795.mp3</td>\n",
       "      <td>Classical</td>\n",
       "      <td>1</td>\n",
       "    </tr>\n",
       "    <tr>\n",
       "      <th>2</th>\n",
       "      <td>011721.mp3</td>\n",
       "      <td>Classical</td>\n",
       "      <td>1</td>\n",
       "    </tr>\n",
       "    <tr>\n",
       "      <th>3</th>\n",
       "      <td>145568.mp3</td>\n",
       "      <td>Classical</td>\n",
       "      <td>1</td>\n",
       "    </tr>\n",
       "    <tr>\n",
       "      <th>4</th>\n",
       "      <td>070936.mp3</td>\n",
       "      <td>Classical</td>\n",
       "      <td>1</td>\n",
       "    </tr>\n",
       "  </tbody>\n",
       "</table>\n",
       "</div>"
      ],
      "text/plain": [
       "     filename genre_label  genre_id\n",
       "0  082066.mp3   Classical         1\n",
       "1  065795.mp3   Classical         1\n",
       "2  011721.mp3   Classical         1\n",
       "3  145568.mp3   Classical         1\n",
       "4  070936.mp3   Classical         1"
      ]
     },
     "execution_count": 53,
     "metadata": {},
     "output_type": "execute_result"
    }
   ],
   "source": [
    "RAW_DIR = os.path.abspath(os.path.join(os.getcwd(), '../..', 'models', 'genre_detector', 'data', 'raw')) # path to raw dataset\n",
    "PREPARED_DIR = os.path.abspath(os.path.join(os.getcwd(), '../..', 'models', 'genre_detector', 'data', 'prepared')) # path to prepared dataset\n",
    "fma_genres_df = pd.read_csv(os.path.join(RAW_DIR, 'fma_genres.csv'))\n",
    "gtzan_genres_df = pd.read_csv(os.path.join(RAW_DIR, 'gtzan_genres.csv'))\n",
    "merged_df = pd.concat([fma_genres_df, gtzan_genres_df], ignore_index=True)\n",
    "print(\"There are {} rows in fma genres dataset\".format(len(fma_genres_df)))\n",
    "print(\"There are {} rows in gtzan genres dataset\".format(len(gtzan_genres_df)))\n",
    "print(\"There are {} rows in merged genres dataset\".format(len(merged_df)))\n",
    "merged_df.head()"
   ]
  },
  {
   "cell_type": "code",
   "execution_count": 54,
   "metadata": {},
   "outputs": [
    {
     "data": {
      "text/plain": [
       "genre_label\n",
       "Blues          210\n",
       "Classical     1100\n",
       "Country        294\n",
       "Disco          177\n",
       "Electronic     998\n",
       "Hip-Hop       1100\n",
       "Jazz           670\n",
       "Metal          311\n",
       "Pop           1099\n",
       "Reggae         500\n",
       "Rock          1100\n",
       "Name: genre_id, dtype: int64"
      ]
     },
     "execution_count": 54,
     "metadata": {},
     "output_type": "execute_result"
    }
   ],
   "source": [
    "# count number of songs per genre and keep only genre_id column\n",
    "count = merged_df.groupby('genre_label')[\"genre_id\"].count()\n",
    "count"
   ]
  },
  {
   "cell_type": "code",
   "execution_count": 55,
   "metadata": {},
   "outputs": [
    {
     "name": "stdout",
     "output_type": "stream",
     "text": [
      "Minimum number of songs per genre: 177\n"
     ]
    },
    {
     "data": {
      "image/png": "[encoded data removed]",
      "text/plain": [
       "<Figure size 1000x500 with 1 Axes>"
      ]
     },
     "metadata": {},
     "output_type": "display_data"
    }
   ],
   "source": [
    "minimum_songs_per_genre = merged_df.groupby('genre_label')[\"genre_id\"].count().min()\n",
    "print(\"Minimum number of songs per genre: {}\".format(minimum_songs_per_genre))\n",
    "# plot number of songs per genre, horizontal bar chart, sorted by number of songs\n",
    "count.sort_values().plot(kind='barh', figsize=(10, 5))\n",
    "plt.title(\"Number of songs per genre\")\n",
    "plt.xlabel(\"Number of songs\")\n",
    "plt.ylabel(\"Genre\")\n",
    "plt.show()"
   ]
  },
  {
   "cell_type": "code",
   "execution_count": 56,
   "metadata": {},
   "outputs": [
    {
     "name": "stdout",
     "output_type": "stream",
     "text": [
      "There are 1947 rows in merged genres dataset\n"
     ]
    },
    {
     "data": {
      "text/html": [
       "<div>\n",
       "<style scoped>\n",
       "    .dataframe tbody tr th:only-of-type {\n",
       "        vertical-align: middle;\n",
       "    }\n",
       "\n",
       "    .dataframe tbody tr th {\n",
       "        vertical-align: top;\n",
       "    }\n",
       "\n",
       "    .dataframe thead th {\n",
       "        text-align: right;\n",
       "    }\n",
       "</style>\n",
       "<table border=\"1\" class=\"dataframe\">\n",
       "  <thead>\n",
       "    <tr style=\"text-align: right;\">\n",
       "      <th></th>\n",
       "      <th>filename</th>\n",
       "      <th>genre_label</th>\n",
       "      <th>genre_id</th>\n",
       "    </tr>\n",
       "  </thead>\n",
       "  <tbody>\n",
       "    <tr>\n",
       "      <th>0</th>\n",
       "      <td>004540.mp3</td>\n",
       "      <td>Blues</td>\n",
       "      <td>0</td>\n",
       "    </tr>\n",
       "    <tr>\n",
       "      <th>1</th>\n",
       "      <td>blues.00062.wav</td>\n",
       "      <td>Blues</td>\n",
       "      <td>0</td>\n",
       "    </tr>\n",
       "    <tr>\n",
       "      <th>2</th>\n",
       "      <td>078747.mp3</td>\n",
       "      <td>Blues</td>\n",
       "      <td>0</td>\n",
       "    </tr>\n",
       "    <tr>\n",
       "      <th>3</th>\n",
       "      <td>blues.00089.wav</td>\n",
       "      <td>Blues</td>\n",
       "      <td>0</td>\n",
       "    </tr>\n",
       "    <tr>\n",
       "      <th>4</th>\n",
       "      <td>038539.mp3</td>\n",
       "      <td>Blues</td>\n",
       "      <td>0</td>\n",
       "    </tr>\n",
       "  </tbody>\n",
       "</table>\n",
       "</div>"
      ],
      "text/plain": [
       "          filename genre_label  genre_id\n",
       "0       004540.mp3       Blues         0\n",
       "1  blues.00062.wav       Blues         0\n",
       "2       078747.mp3       Blues         0\n",
       "3  blues.00089.wav       Blues         0\n",
       "4       038539.mp3       Blues         0"
      ]
     },
     "execution_count": 56,
     "metadata": {},
     "output_type": "execute_result"
    }
   ],
   "source": [
    "# delete genres to have minimum_songs_per_genre songs per genre (set a seed to be able to reproduce the results and create the same dataset)\n",
    "np.random.seed(42)\n",
    "merged_df = merged_df.groupby('genre_label').apply(lambda x: x.sample(minimum_songs_per_genre)).reset_index(drop=True)\n",
    "print(\"There are {} rows in merged genres dataset\".format(len(merged_df)))\n",
    "merged_df.head()"
   ]
  },
  {
   "cell_type": "code",
   "execution_count": 57,
   "metadata": {},
   "outputs": [
    {
     "data": {
      "text/plain": [
       "genre_label\n",
       "Blues         177\n",
       "Classical     177\n",
       "Country       177\n",
       "Disco         177\n",
       "Electronic    177\n",
       "Hip-Hop       177\n",
       "Jazz          177\n",
       "Metal         177\n",
       "Pop           177\n",
       "Reggae        177\n",
       "Rock          177\n",
       "Name: genre_id, dtype: int64"
      ]
     },
     "execution_count": 57,
     "metadata": {},
     "output_type": "execute_result"
    }
   ],
   "source": [
    "# count number of songs per genre and keep only genre_id column\n",
    "count = merged_df.groupby('genre_label')[\"genre_id\"].count()\n",
    "count"
   ]
  },
  {
   "cell_type": "code",
   "execution_count": 58,
   "metadata": {},
   "outputs": [
    {
     "name": "stdout",
     "output_type": "stream",
     "text": [
      "There are 1562 rows in train dataset\n",
      "There are 385 rows in test dataset\n"
     ]
    },
    {
     "data": {
      "text/html": [
       "<div>\n",
       "<style scoped>\n",
       "    .dataframe tbody tr th:only-of-type {\n",
       "        vertical-align: middle;\n",
       "    }\n",
       "\n",
       "    .dataframe tbody tr th {\n",
       "        vertical-align: top;\n",
       "    }\n",
       "\n",
       "    .dataframe thead th {\n",
       "        text-align: right;\n",
       "    }\n",
       "</style>\n",
       "<table border=\"1\" class=\"dataframe\">\n",
       "  <thead>\n",
       "    <tr style=\"text-align: right;\">\n",
       "      <th></th>\n",
       "      <th>filename</th>\n",
       "      <th>genre_label</th>\n",
       "      <th>genre_id</th>\n",
       "    </tr>\n",
       "  </thead>\n",
       "  <tbody>\n",
       "    <tr>\n",
       "      <th>0</th>\n",
       "      <td>blues.00033.wav</td>\n",
       "      <td>Blues</td>\n",
       "      <td>0</td>\n",
       "    </tr>\n",
       "    <tr>\n",
       "      <th>1</th>\n",
       "      <td>blues.00028.wav</td>\n",
       "      <td>Blues</td>\n",
       "      <td>0</td>\n",
       "    </tr>\n",
       "    <tr>\n",
       "      <th>2</th>\n",
       "      <td>003440.mp3</td>\n",
       "      <td>Blues</td>\n",
       "      <td>0</td>\n",
       "    </tr>\n",
       "    <tr>\n",
       "      <th>3</th>\n",
       "      <td>004536.mp3</td>\n",
       "      <td>Blues</td>\n",
       "      <td>0</td>\n",
       "    </tr>\n",
       "    <tr>\n",
       "      <th>4</th>\n",
       "      <td>blues.00012.wav</td>\n",
       "      <td>Blues</td>\n",
       "      <td>0</td>\n",
       "    </tr>\n",
       "  </tbody>\n",
       "</table>\n",
       "</div>"
      ],
      "text/plain": [
       "          filename genre_label  genre_id\n",
       "0  blues.00033.wav       Blues         0\n",
       "1  blues.00028.wav       Blues         0\n",
       "2       003440.mp3       Blues         0\n",
       "3       004536.mp3       Blues         0\n",
       "4  blues.00012.wav       Blues         0"
      ]
     },
     "execution_count": 58,
     "metadata": {},
     "output_type": "execute_result"
    }
   ],
   "source": [
    "if not os.path.exists(PREPARED_DIR):\n",
    "    os.makedirs(PREPARED_DIR)\n",
    "\n",
    "# select 80% of the songs for training and 20% for testing (keep same proportion of songs per genre)\n",
    "train_df = merged_df.groupby('genre_label').apply(lambda x: x.sample(frac=0.8)).reset_index(drop=True)\n",
    "test_df = merged_df.drop(train_df.index).reset_index(drop=True)\n",
    "print(\"There are {} rows in train dataset\".format(len(train_df)))\n",
    "print(\"There are {} rows in test dataset\".format(len(test_df)))\n",
    "train_df.head()"
   ]
  },
  {
   "cell_type": "code",
   "execution_count": 59,
   "metadata": {},
   "outputs": [
    {
     "data": {
      "image/png": "[encoded data removed]",
      "text/plain": [
       "<Figure size 1000x500 with 1 Axes>"
      ]
     },
     "metadata": {},
     "output_type": "display_data"
    }
   ],
   "source": [
    "count = train_df.groupby('genre_label')[\"genre_id\"].count()\n",
    "count.sort_values().plot(kind='barh', figsize=(10, 5))\n",
    "plt.title(\"Number of songs per genre in train dataset\")\n",
    "plt.xlabel(\"Number of songs\")\n",
    "plt.ylabel(\"Genre\")\n",
    "plt.show()"
   ]
  },
  {
   "cell_type": "code",
   "execution_count": 60,
   "metadata": {},
   "outputs": [],
   "source": [
    "# save train and test dataset\n",
    "train_df.to_csv(os.path.join(PREPARED_DIR, 'train_genres.csv'), index=False)\n",
    "test_df.to_csv(os.path.join(PREPARED_DIR, 'test_genres.csv'), index=False)"
   ]
  }
 ],
 "metadata": {
  "kernelspec": {
   "display_name": "pi_mlodimage",
   "language": "python",
   "name": "python3"
  },
  "language_info": {
   "codemirror_mode": {
    "name": "ipython",
    "version": 3
   },
   "file_extension": ".py",
   "mimetype": "text/x-python",
   "name": "python",
   "nbconvert_exporter": "python",
   "pygments_lexer": "ipython3",
   "version": "3.10.11"
  },
  "orig_nbformat": 4
 },
 "nbformat": 4,
 "nbformat_minor": 2
}
