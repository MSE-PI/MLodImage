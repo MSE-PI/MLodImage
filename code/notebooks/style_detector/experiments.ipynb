{
 "cells": [
  {
   "cell_type": "markdown",
   "source": [
    "## Experimentation : music style detector\n",
    "\n",
    "This notebook contains experimentation to create a music style detector using Deep Learning and the [GTZAN dataset](https://www.kaggle.com/datasets/andradaolteanu/gtzan-dataset-music-genre-classification).\n",
    "This notebook is partially inspired from this towards data science [article](https://towardsdatascience.com/audio-deep-learning-made-simple-sound-classification-step-by-step-cebc936bbe5), classifying audio files using PyTorch.\n"
   ],
   "metadata": {
    "collapsed": false
   }
  }
 ],
 "metadata": {
  "kernelspec": {
   "display_name": "Python 3",
   "language": "python",
   "name": "python3"
  },
  "language_info": {
   "codemirror_mode": {
    "name": "ipython",
    "version": 2
   },
   "file_extension": ".py",
   "mimetype": "text/x-python",
   "name": "python",
   "nbconvert_exporter": "python",
   "pygments_lexer": "ipython2",
   "version": "2.7.6"
  }
 },
 "nbformat": 4,
 "nbformat_minor": 0
}
